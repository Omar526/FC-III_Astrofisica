{
 "cells": [
  {
   "cell_type": "markdown",
   "id": "e94049fe",
   "metadata": {},
   "source": [
    "<div style=\"background-color: #d9ffd4; padding: 20px; border-radius: 10px;\">\n",
    "    <h1 style=\"color: #2F4F4F; font-family: Calibri, sans-serif; text-align: center;\">Clase 2</h1>\n",
    "    <p style=\"color: #2F4F4F; font-family: Calibri, Courier, monospace; text-align: center; font-size: 24px;\">\n",
    "        Representación de números en el computador\n",
    "    </p>\n",
    "</div>"
   ]
  },
  {
   "cell_type": "markdown",
   "id": "9017e966",
   "metadata": {},
   "source": [
    "¿Cómo obtener la representación binaria de un número entero en Python?"
   ]
  },
  {
   "cell_type": "code",
   "execution_count": 2,
   "id": "3cbbb2c0",
   "metadata": {},
   "outputs": [
    {
     "name": "stdout",
     "output_type": "stream",
     "text": [
      "0b1010011011110\n",
      "1010011011110\n"
     ]
    }
   ],
   "source": [
    "# utilizamos el comando bin\n",
    "numero = 5342\n",
    "\n",
    "print(bin(numero))\n",
    "\n",
    "print(bin(numero)[2:])"
   ]
  },
  {
   "cell_type": "markdown",
   "id": "f73273af",
   "metadata": {},
   "source": [
    "¿Qué tipo de dato devuelve la función `bin()`? *Pista: Utilice la función* `type()`"
   ]
  },
  {
   "cell_type": "code",
   "execution_count": 3,
   "id": "18320dfe",
   "metadata": {},
   "outputs": [
    {
     "data": {
      "text/plain": [
       "str"
      ]
     },
     "execution_count": 3,
     "metadata": {},
     "output_type": "execute_result"
    }
   ],
   "source": [
    "type(bin(numero))"
   ]
  },
  {
   "cell_type": "markdown",
   "id": "36685328",
   "metadata": {},
   "source": [
    "¿Y si aplicamos la función `bin()` al número decimal $13.2$?"
   ]
  },
  {
   "cell_type": "code",
   "execution_count": 4,
   "id": "28b8d50f",
   "metadata": {},
   "outputs": [
    {
     "ename": "TypeError",
     "evalue": "'float' object cannot be interpreted as an integer",
     "output_type": "error",
     "traceback": [
      "\u001b[1;31m---------------------------------------------------------------------------\u001b[0m",
      "\u001b[1;31mTypeError\u001b[0m                                 Traceback (most recent call last)",
      "Cell \u001b[1;32mIn[4], line 1\u001b[0m\n\u001b[1;32m----> 1\u001b[0m \u001b[38;5;28;43mbin\u001b[39;49m\u001b[43m(\u001b[49m\u001b[38;5;241;43m13.2\u001b[39;49m\u001b[43m)\u001b[49m\n",
      "\u001b[1;31mTypeError\u001b[0m: 'float' object cannot be interpreted as an integer"
     ]
    }
   ],
   "source": [
    "bin(13.2)"
   ]
  },
  {
   "cell_type": "markdown",
   "id": "acb70b74",
   "metadata": {},
   "source": [
    "¿Cómo obtenemos la representación de punto flotante de un número no entero en Python?"
   ]
  },
  {
   "cell_type": "code",
   "execution_count": 8,
   "id": "bfe569f6",
   "metadata": {},
   "outputs": [
    {
     "name": "stdout",
     "output_type": "stream",
     "text": [
      " El número 0.1 tiene la siguiente representación de 32 bits: 00111101110011001100110011001101\n",
      " El número 0.1 tiene la siguiente representación de 64 bits: 0011111110111001100110011001100110011001100110011001100110011010\n"
     ]
    }
   ],
   "source": [
    "import struct\n",
    "def binary_32(num):\n",
    "    return ''.join('{:0>8b}'.format(c) for c in struct.pack('!f', num))\n",
    "\n",
    "def binary_64(num):\n",
    "    return ''.join('{:0>8b}'.format(c) for c in struct.pack('!d', num))\n",
    "\n",
    "num = 0.1\n",
    "\n",
    "representacion_32bits = binary_32(num)\n",
    "representacion_64bits = binary_64(num)\n",
    "\n",
    "# Imprima el número 0.1 en 32 y 64 bits usando f-strings\n",
    "#...\n",
    "\n",
    "print(f\" El número {num} tiene la siguiente representación de 32 bits: {representacion_32bits}\")\n",
    "print(f\" El número {num} tiene la siguiente representación de 64 bits: {representacion_64bits}\")\n"
   ]
  },
  {
   "cell_type": "markdown",
   "id": "95ec1471",
   "metadata": {},
   "source": [
    "¿Qué ocurre con el 0.1?"
   ]
  },
  {
   "cell_type": "code",
   "execution_count": 12,
   "id": "b61b2e5a",
   "metadata": {},
   "outputs": [
    {
     "name": "stdout",
     "output_type": "stream",
     "text": [
      "0.10000000149011611938\n",
      "0.10000000000000000555\n"
     ]
    }
   ],
   "source": [
    "import numpy as np\n",
    "\n",
    "a_32 = np.float32(0.1)\n",
    "a_64 = np.float64(0.1)\n",
    "\n",
    "#Imprima ambos números usando f-string y formatee la salida para mostrar al menos 20 decimales\n",
    "#...\n",
    "\n",
    "print(f\"{a_32:.20f}\")\n",
    "print(f\"{a_64:.20f}\")"
   ]
  },
  {
   "cell_type": "markdown",
   "id": "a2c82503",
   "metadata": {},
   "source": [
    "¿$0.1 + 0.2 + 0.3 = 0.6$? Matemáticamente esto es verdadero, pero... ¿computacionalmente lo será?"
   ]
  },
  {
   "cell_type": "code",
   "execution_count": 17,
   "id": "19bd69d8",
   "metadata": {},
   "outputs": [
    {
     "name": "stdout",
     "output_type": "stream",
     "text": [
      "0.60000000000000008882\n",
      "0.59999999999999997780\n"
     ]
    }
   ],
   "source": [
    "# compruebe\n",
    "\n",
    "print(f\"{0.1 + 0.2 + 0.3:.20f}\")\n",
    "\n",
    "print(f\"{0.6:.20f}\")"
   ]
  },
  {
   "cell_type": "markdown",
   "id": "58db3ba9",
   "metadata": {},
   "source": [
    "Imprima 0.6 con 20 decimales y haga lo mismo para la suma 0.1 + 0.2 + 0.3:"
   ]
  },
  {
   "cell_type": "code",
   "execution_count": null,
   "id": "32bc36ea",
   "metadata": {},
   "outputs": [],
   "source": []
  },
  {
   "cell_type": "markdown",
   "id": "497f287c",
   "metadata": {},
   "source": [
    "La suma en un sistema informático no cumple la propiedad asociativa:"
   ]
  },
  {
   "cell_type": "code",
   "execution_count": 18,
   "id": "f6113425",
   "metadata": {},
   "outputs": [
    {
     "name": "stdout",
     "output_type": "stream",
     "text": [
      "suma: 0.1 + (0.2 + 0.3) = 0.5999999999999999778\n",
      "suma: (0.1 + 0.2) + 0.3 = 0.60000000000000008882\n"
     ]
    }
   ],
   "source": [
    "print(f\"suma: 0.1 + (0.2 + 0.3) = {0.1 + (0.2 + 0.3):.20}\")\n",
    "print(f\"suma: (0.1 + 0.2) + 0.3 = {(0.1 + 0.2) + 0.3:.20}\")"
   ]
  },
  {
   "cell_type": "markdown",
   "id": "799c08e9",
   "metadata": {},
   "source": [
    "0.1 + 0.1 + ... 0.1 (sumado 100 veces) = 10... o no?"
   ]
  },
  {
   "cell_type": "code",
   "execution_count": 21,
   "id": "7a2da461",
   "metadata": {},
   "outputs": [
    {
     "data": {
      "text/plain": [
       "10.09999999999998"
      ]
     },
     "execution_count": 21,
     "metadata": {},
     "output_type": "execute_result"
    }
   ],
   "source": [
    "# utilice un ciclo para sumar iterativamente 100 veces el número 0.1\n",
    "# guarde este resultado en una variable llamada \"a\"\n",
    "\n",
    "a = 0.1\n",
    "for _ in range(100):\n",
    "    #a = a + 0.1\n",
    "    a += 0.1\n",
    "\n",
    "a\n"
   ]
  },
  {
   "cell_type": "code",
   "execution_count": 23,
   "id": "7d869394",
   "metadata": {},
   "outputs": [
    {
     "name": "stdout",
     "output_type": "stream",
     "text": [
      "10.00000000000000000000\n"
     ]
    }
   ],
   "source": [
    "b = 0.1*100\n",
    "\n",
    "print(f\"{b:.20f}\")"
   ]
  },
  {
   "cell_type": "markdown",
   "id": "b0ba6b6e",
   "metadata": {},
   "source": [
    "Determine el error relativo porcentual entre $a$ y $b$, definido como:\n",
    "\n",
    "$$ \\varepsilon_\\% = 100 \\cdot \\left| \\frac{a - b}{b} \\right| $$"
   ]
  },
  {
   "cell_type": "code",
   "execution_count": 26,
   "id": "e3e48149",
   "metadata": {},
   "outputs": [
    {
     "name": "stdout",
     "output_type": "stream",
     "text": [
      "el error relativo porcentual entre a y b es: 1.00\n"
     ]
    }
   ],
   "source": [
    "# imprima el resultado\n",
    "\n",
    "print(f\"el error relativo porcentual entre a y b es: {100*abs((a-b)/b):.2f}\")"
   ]
  },
  {
   "cell_type": "markdown",
   "id": "c6d9ba1f",
   "metadata": {},
   "source": [
    "#### **Expansión en serie de Taylor**\n",
    "\n",
    "Una expansión en serie de Taylor es una forma de aproximar una función matemática complicada utilizando una serie de términos más simples. Básicamente, descompone la función en una suma infinita de términos polinómicos, donde cada término se calcula a partir de las derivadas de la función evaluadas en un punto específico $x_0$:\n",
    "\n",
    "$$ f(x) = \\sum_{n=0}^{\\infty} \\frac{f^{(n)}(x_0)}{n!} (x-x_0)^n = a_0 + a_1 (x-x_0) + a_2 (x-x_0)^2 + a_3 (x-x_0)^3 + ... $$\n",
    "\n",
    "Esta aproximación es útil para hacer cálculos aproximados de funciones complejas alrededor de un punto conocido $x_0$ (generalmente se utiliza $x_0=0$).\n",
    "\n",
    "\n",
    "\n",
    "\n",
    "\n"
   ]
  },
  {
   "cell_type": "markdown",
   "id": "3928eb21",
   "metadata": {},
   "source": [
    "<div style=\"background-color: #FFF9AD; color: black; padding: 10px; border-radius: 5px;\">\n",
    "\n",
    "**Ejercicio**: Implemente la suma de la serie de Taylor, para aproximar la función $\\sin(x)$:\n",
    "\n",
    "$$ \\sin(x) \\approx \\sum_{n=0}^{N} \\frac{(-1)^n}{(2n+1)!} x^{2n+1} $$\n",
    "\n",
    "utilice para ello $N=1,2,3,4,5,6,7,8,9,10$ y evalúe la función en $x=\\pi/2$.\n",
    "\n",
    "Compare con el resultado exacto $\\sin(\\pi/2) = 1$ y determine el error relativo porcentual $\\varepsilon_\\%$ para cada $N$.\n",
    "\n",
    "</div>"
   ]
  },
  {
   "cell_type": "code",
   "execution_count": 31,
   "id": "b0c2cf2c",
   "metadata": {},
   "outputs": [
    {
     "data": {
      "text/plain": [
       "[1.5707963267948966,\n",
       " 0.9248322292886504,\n",
       " 1.0045248555348174,\n",
       " 0.9998431013994987,\n",
       " 1.0000035425842861,\n",
       " 0.999999943741051,\n",
       " 1.0000000006627803,\n",
       " 0.9999999999939768,\n",
       " 1.0000000000000437,\n",
       " 1.0,\n",
       " 1.0000000000000002,\n",
       " 1.0000000000000002,\n",
       " 1.0000000000000002,\n",
       " 1.0000000000000002,\n",
       " 1.0000000000000002,\n",
       " 1.0000000000000002,\n",
       " 1.0000000000000002,\n",
       " 1.0000000000000002,\n",
       " 1.0000000000000002,\n",
       " 1.0000000000000002,\n",
       " 1.0000000000000002,\n",
       " 1.0000000000000002,\n",
       " 1.0000000000000002,\n",
       " 1.0000000000000002]"
      ]
     },
     "execution_count": 31,
     "metadata": {},
     "output_type": "execute_result"
    }
   ],
   "source": [
    "# Su código acá. Definan una función.\n",
    "import math\n",
    "import numpy as np\n",
    "\n",
    "def sin_taylor(N, x):\n",
    "\n",
    "    suma = 0\n",
    "    for n in range(N):\n",
    "        suma += (-1)**n * x **(2*n+1) / math.factorial(2*n + 1)\n",
    "\n",
    "    return suma\n",
    "\n",
    "Sin_x = []\n",
    "for n in range(1, 25):\n",
    "    sin_x = sin_taylor(N=n, x=np.pi/2)\n",
    "    Sin_x.append(sin_x)\n",
    "\n",
    "Sin_x"
   ]
  },
  {
   "cell_type": "markdown",
   "id": "8fed818b",
   "metadata": {},
   "source": [
    "Use `matplotlib.pyplot` para graficar $\\varepsilon_\\%$ vs $N$:"
   ]
  },
  {
   "cell_type": "code",
   "execution_count": null,
   "id": "d5fce807",
   "metadata": {},
   "outputs": [],
   "source": []
  },
  {
   "cell_type": "markdown",
   "id": "18d7403d",
   "metadata": {},
   "source": [
    "<div style=\"background-color: #FFF9AD; color: black; padding: 10px; border-radius: 5px;\">\n",
    "\n",
    "**Para finalizar:** grafique la aproximación de la función $\\sin(x)$ mediante su expansión en serie de Taylor para $N=1,2,3,4,5$ en el dominio $x \\in [0, \\pi]$.\n",
    "\n",
    "Compare estas aproximaciones con los valores obtenidos mediante la función `numpy.sin()`.\n",
    "\n",
    "</div>"
   ]
  },
  {
   "cell_type": "code",
   "execution_count": null,
   "id": "6ced41a0",
   "metadata": {},
   "outputs": [
    {
     "data": {
      "text/markdown": [
       "<b><font size='4'>Gráfico Esperado:</font></b>"
      ],
      "text/plain": [
       "<IPython.core.display.Markdown object>"
      ]
     },
     "metadata": {},
     "output_type": "display_data"
    },
    {
     "data": {
      "image/png": "[encoded data removed]",
      "text/plain": [
       "<Figure size 600x400 with 1 Axes>"
      ]
     },
     "metadata": {},
     "output_type": "display_data"
    }
   ],
   "source": [
    "# código acá"
   ]
  },
  {
   "cell_type": "markdown",
   "id": "861382ec",
   "metadata": {},
   "source": [
    "<div style=\"background-color: #d9ffd4; color: black; padding: 10px; border-radius: 5px;\">\n",
    "\n",
    "**Conclusión:** ¿Qué aprendimos?\n",
    "\n",
    "- En esta clase exploramos las distintas formas en que los números se representan en un sistema computacional.\n",
    "\n",
    "- Aprendimos que, debido a la cantidad limitada de bits disponibles para almacenar información, los números con muchos decimales deben truncarse, lo que da lugar a errores numéricos.\n",
    "\n",
    "- También estudiamos la serie de Taylor como herramienta matemática, y observamos que, dado que no es posible sumar una cantidad infinita de términos en un computador, la serie debe truncarse, lo que también introduce un error numérico.\n",
    "\n",
    "**Próxima clase:** Errores de redondeo y errores de aproximación\n",
    "</div>"
   ]
  },
  {
   "cell_type": "markdown",
   "id": "adde1ce0",
   "metadata": {},
   "source": [
    "<div style=\"padding: 15px; border-top: 2px solid #2F4F4F; margin-top: 30px; background-color: var(--custom-bg-color); color: var(--custom-text-color);\">\n",
    "    <p style=\"font-family: Calibri, sans-serif; text-align: left; font-size: 16px;\">\n",
    "        Omar Fernández <br>\n",
    "        Profesor de Física Computacional III para Astrofísica <br>\n",
    "        Ingeniero Físico <br>\n",
    "        <a href=\"mailto:omar.fernandez.o@usach.cl\" class=\"email-link\">omar.fernandez.o@usach.cl</a> <br>\n",
    "    </p>\n",
    "</div>\n",
    "\n",
    "<style>\n",
    ":root {\n",
    "    --custom-bg-color: #F8F8F8;\n",
    "    --custom-text-color: #2F4F4F;\n",
    "    --custom-link-color: blue;\n",
    "}\n",
    "\n",
    "@media (prefers-color-scheme: dark) {\n",
    "    :root {\n",
    "        --custom-bg-color: #444444;\n",
    "        --custom-text-color: #F8F8F8;\n",
    "        --custom-link-color: magenta;\n",
    "    }\n",
    "}\n",
    "\n",
    ".email-link {\n",
    "    color: var(--custom-link-color);\n",
    "}\n",
    "</style>"
   ]
  }
 ],
 "metadata": {
  "kernelspec": {
   "display_name": "Python 3",
   "language": "python",
   "name": "python3"
  },
  "language_info": {
   "codemirror_mode": {
    "name": "ipython",
    "version": 3
   },
   "file_extension": ".py",
   "mimetype": "text/x-python",
   "name": "python",
   "nbconvert_exporter": "python",
   "pygments_lexer": "ipython3",
   "version": "3.10.11"
  }
 },
 "nbformat": 4,
 "nbformat_minor": 5
}
