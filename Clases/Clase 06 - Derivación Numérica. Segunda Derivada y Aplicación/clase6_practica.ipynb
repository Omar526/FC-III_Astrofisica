{
 "cells": [
  {
   "cell_type": "markdown",
   "metadata": {},
   "source": [
    "<div style=\"background-color: #d9ffd4; padding: 20px; border-radius: 10px;\">\n",
    "    <h1 style=\"color: #2F4F4F; font-family: Calibri, sans-serif; text-align: center;\">Clase 6</h1>\n",
    "    <p style=\"color: #2F4F4F; font-family: Calibri, Courier, monospace; text-align: center; font-size: 24px;\">\n",
    "        Segunda derivada y aplicación en física\n",
    "    </p>\n",
    "</div>"
   ]
  },
  {
   "cell_type": "markdown",
   "metadata": {},
   "source": [
    "<div style=\"background-color: #d4eeff; color: black; padding: 10px; border-radius: 5px;\">\n",
    "\n",
    "### **Segunda Derivada Numérica**\n",
    "\n",
    "Considere el método *Central Difference* para calcular la primera derivada de una función:\n",
    "\n",
    "$$ f'_{cd}(x) = \\frac{f(x+h) - f(x-h)}{2h} $$\n",
    "\n",
    "Ahora, de manera estratégica, considere un tamaño de paso $h\\rightarrow h/2$ (más adelante entenderá el motivo):\n",
    "\n",
    "$$ f'_{cd}(x) = \\frac{f(x+h/2) - f(x-h/2)}{h} $$\n",
    "\n",
    "Calculemos la segunda derivada usando el mismo método:\n",
    "\n",
    "$$ f''_{cd}(x) = \\frac{f'(x+h/2) - f'(x-h/2)}{h} = \\frac{1}{h} \\left( f'(x+h/2) - f'(x-h/2) \\right)$$\n",
    "\n",
    "Note que\n",
    "\n",
    "$$ f'(x + h/2) = f'_{cd}(x\\rightarrow {\\color{red}x + h/2}) = \\frac{f({\\color{red} x+h/2} + h/2) - f({\\color{red} x+h/2}-h/2 )}{h} = \\frac{f(x+h) - f(x)}{h}$$\n",
    "\n",
    "$$ f'(x - h/2) = f'_{cd}(x\\rightarrow {\\color{red}x - h/2}) = \\frac{f({\\color{red} x-h/2} + h/2) - f({\\color{red} x-h/2}-h/2 )}{h} = \\frac{f(x) - f(x-h)}{h}$$\n",
    "\n",
    "Finalmente\n",
    "\n",
    "$$ f''_{cd}(x) = \\frac{1}{h} \\left(  \\frac{f(x+h) - f(x)}{h} -  \\frac{f(x) - f(x-h)}{h} \\right)$$\n",
    "\n",
    "$$ \\boxed{ f''_{cd}(x) = \\frac{1}{h^2} \\left(  f(x+h) - 2f(x) + f(x-h)\\right) }$$\n",
    "\n",
    "Para calcular la segunda derivada de una función en el punto central $x$, se necesita conocer el valor de la función en $x$ y en sus vecinos $x\\pm h$ (por esta razón, utilizamos anteriormente central difference para $x\\pm h/2$, para que la segunda derivada quede en términos de la información en $x$ y $x\\pm h$).\n",
    "\n",
    "</div>"
   ]
  },
  {
   "cell_type": "markdown",
   "metadata": {},
   "source": [
    "<div style=\"background-color: #d4eeff; color: black; padding: 10px; border-radius: 5px;\">\n",
    "\n",
    "**Ejemplo:** calcule la derivada de la función $f(x) = x^3$, en $x=1$, considerando un paso de tamaño $h=1$. Para ello, necesitamos calcular $f(1)$, $f(2)$ y $f(0)$:\n",
    "\n",
    "$$ f''_{cd}(x) = \\frac{1}{h^2} \\left(  f(2) + f(0) -2f(1) \\right) = \\frac{1}{1^2} \\left(  2^3 + 0^3 -2 \\cdot 1^3 \\right) = 6 $$\n",
    "\n",
    "Considerando la segunda derivada analítica $f''(x) = 6x$, entonces $f(1) = 6 \\cdot 1 = 6$.\n",
    "\n",
    "</div>"
   ]
  },
  {
   "cell_type": "markdown",
   "metadata": {},
   "source": [
    "<div style=\"background-color: #FFF9AD; color: black; padding: 10px; border-radius: 5px;\">\n",
    "\n",
    "**Ejercicio 1:** Calcule la segunda derivada numérica de la función $f(x) = 3\\sin(2x)$, en el domino $x \\in [0, \\pi]$ (es decir, para cada punto $x_i$ del dominio). Utilice un paso $h=0.5$.\n",
    "\n",
    "</div>"
   ]
  },
  {
   "cell_type": "code",
   "execution_count": null,
   "metadata": {},
   "outputs": [],
   "source": [
    "import numpy as np\n",
    "import matplotlib.pyplot as plt\n",
    "\n",
    "# Defina el método visto recientemente\n",
    "def second_derivative(f, x, h):\n",
    "    return ??\n",
    "\n",
    "# Defina la función f(x)\n",
    "def f(x):\n",
    "    return ??\n",
    "\n",
    "# Defina la derivada analítica de f(x)\n",
    "def f_second_derivative(x):\n",
    "    return ??\n",
    "\n",
    "# Defina el paso h\n",
    "h = ??\n",
    "\n",
    "# Defina el intervalo [0, pi]\n",
    "\n",
    "\n",
    "# Calcule la segunda derivada numérica para cada punto en el intervalo [0, pi]\n",
    "\n",
    "\n",
    "# Calcule la derivada analítica de f(x) para cada punto en el intervalo [0, pi]\n",
    "\n",
    "\n",
    "# Grafique las dos derivadas\n",
    "\n"
   ]
  },
  {
   "cell_type": "markdown",
   "metadata": {},
   "source": [
    "<div style=\"background-color: #FFF9AD; color: black; padding: 10px; border-radius: 5px;\">\n",
    "\n",
    "**Ejercicio 2:** Calcule la segunda derivada numérica de la función $f(x) = x^3 - 5x^2 + 10$, en el domino $x \\in [0, 5]$ (es decir, para cada punto $x_i$ del dominio). Utilice un paso $h=0.5$.\n",
    "\n",
    "</div>"
   ]
  },
  {
   "cell_type": "code",
   "execution_count": null,
   "metadata": {},
   "outputs": [],
   "source": [
    "# ..."
   ]
  },
  {
   "cell_type": "markdown",
   "metadata": {},
   "source": [
    "### **Derivadas sobre vectores**\n",
    "\n",
    "Considere el vector posición en función del tiempo $\\vec{r}(t)$, en coordenadas cartesianas: $$\\vec{r}(t) = x(t)\\hat{i} + y(t) \\hat{j} = \\left( x(t), y(t) \\right)$$\n",
    "\n",
    "Podemos determinar el vector velocidad $\\vec{v}(t)$ de la siguiente forma: $$ \\vec{v}(t) = \\frac{d\\vec{r}}{dt} = \\frac{dx}{dt} \\hat{i} + \\frac{dy}{dt} \\hat{j} = \\left( \\frac{dx}{dt}, \\frac{dy}{dt} \\right) = \\left( v_x, v_y \\right)$$\n",
    "\n",
    "Lo mismo con el vector aceleración $\\vec{a}(t)$: $$ \\vec{a}(t) = \\frac{d\\vec{v}}{dt} = \\frac{d^2x}{dt^2} \\hat{i} + \\frac{d^2y}{dt^2} \\hat{j} = \\left( \\frac{d^2x}{dt^2}, \\frac{d^2y}{dt^2} \\right) = \\left( a_x, a_y \\right)$$\n",
    "\n",
    "Ahora podemos calcular la fuerza $\\vec{F}$ que experimenta una partícula de masa $m$ al seguir la trayectoria descrita por el vector $\\vec{r}(t)$:\n",
    "\n",
    "$$ \\vec{F} = m \\vec{a} = m  \\left( \\frac{d^2x}{dt^2}, \\frac{d^2y}{dt^2} \\right)$$"
   ]
  },
  {
   "cell_type": "markdown",
   "metadata": {},
   "source": [
    "<div style=\"background-color: #FFF9AD; color: black; padding: 10px; border-radius: 5px;\">\n",
    "\n",
    "**Ejercicio 3:** Calcule la fuerza $\\vec{F}$ que experimenta un objeto de masa $m=1000$ kg cuando se mueve siguiendo la trayectoria descrita por\n",
    "\n",
    "$$ x(t) = \\sin(t) + \\sin(2t) $$\n",
    "\n",
    "$$ y(t) = \\cos(t) - \\cos(2t) $$\n",
    "\n",
    "en cada instante de tiempo $t \\in [0, 2\\pi] (s)$.\n",
    "\n",
    "</div>"
   ]
  },
  {
   "cell_type": "markdown",
   "metadata": {},
   "source": [
    "**Paso 1:** Grafique la trayectoria que sigue el objeto con matplotlib"
   ]
  },
  {
   "cell_type": "code",
   "execution_count": null,
   "metadata": {},
   "outputs": [],
   "source": [
    "# Definición de x(t)\n",
    "def x(t):\n",
    "    return ??\n",
    "\n",
    "# Definición de y(t)\n",
    "def y(t):\n",
    "    return ??\n",
    "\n",
    "# Definición de la función para calcular el vector posición r(t)\n",
    "def r(x,y,t):\n",
    "    return x(t), y(t)\n",
    "\n",
    "# Generar valores de tiempo\n",
    "t_values = np.linspace(0, 2*np.pi, 100)  # 100 valores de tiempo entre 0 y 2*pi\n",
    "\n",
    "# Calcular las posiciones correspondientes a los valores de tiempo\n",
    "x_values, y_values = r(x,y,t_values)\n",
    "\n",
    "# Graficar la trayectoria\n"
   ]
  },
  {
   "cell_type": "markdown",
   "metadata": {},
   "source": [
    "**Paso 2:** Calcule la aceleración $\\vec{a}$ del objeto usando central difference para segunda derivada"
   ]
  },
  {
   "cell_type": "code",
   "execution_count": null,
   "metadata": {},
   "outputs": [],
   "source": [
    "# ..."
   ]
  },
  {
   "cell_type": "markdown",
   "metadata": {},
   "source": [
    "**Paso 3:** Determine la fuerza $\\vec{F}$ que experimenta el objeto en cada instante de tiempo, calcule además su magnitud $|\\vec{F}|$. Grafique $|\\vec{F}|$ vs $t$"
   ]
  },
  {
   "cell_type": "code",
   "execution_count": null,
   "metadata": {},
   "outputs": [],
   "source": [
    "# ..."
   ]
  },
  {
   "cell_type": "markdown",
   "metadata": {},
   "source": [
    "**Paso 4:** Grafique la trayectoria del objeto y además el vector fuerza $\\vec{F}$ en cada punto de la trayectoria. Pista: Investigue y use `quiver` de matplotlib para graficar vectores (o campos vectoriales)."
   ]
  },
  {
   "cell_type": "code",
   "execution_count": null,
   "metadata": {},
   "outputs": [],
   "source": [
    "# ..."
   ]
  },
  {
   "cell_type": "markdown",
   "metadata": {},
   "source": [
    "Nos gustaría ahora conocer la velocidad del objeto en cada instante de tiempo, el método de segunda derivada no nos entrega la primera derivada, por lo tanto debemos calcularla.\n",
    "\n",
    "**Paso 5**: Use central difference de primera derivada para calcular la velocidad del objeto y grafique la velocidad en cada punto de la trayectoria."
   ]
  },
  {
   "cell_type": "code",
   "execution_count": null,
   "metadata": {},
   "outputs": [],
   "source": [
    "# ..."
   ]
  },
  {
   "cell_type": "markdown",
   "metadata": {},
   "source": [
    "### **Derivada numérica discreta**\n",
    "\n",
    "En muchos problemas de la física, especialmente en aquellos basados en observaciones o simulaciones computacionales, no contamos con una expresión analítica para describir el movimiento de un objeto. Por ejemplo, en observaciones astronómicas, las posiciones de un cuerpo celeste se obtienen como datos discretos tomados en intervalos de tiempo regulares. En estos casos, es necesario utilizar herramientas numéricas para aproximar cantidades derivadas como la velocidad, la aceleración o la fuerza.\n",
    "\n",
    "La derivada de una función $\\vec{r}(t_i)$ en un punto $t_i$, usando diferencias centrales, se aproxima mediante:\n",
    "\n",
    "$$ \\vec{v}(t_i) = \\left . \\frac{d \\vec{r}}{dt} \\right |_{t_i}  = \\frac{\\vec{r}(t_{i+1}) - \\vec{r}(t_{i-1})}{2 \\Delta t} =  \\frac{\\vec{r}_{i+1} - \\vec{r}_{i-1}}{2 \\Delta t}$$\n",
    "\n",
    "En componentes nos queda:\n",
    "\n",
    "$$ v_x(t_i) = \\left . \\frac{dx}{dt} \\right |_{t_i}  = \\frac{x(t_{i+1}) - x(t_{i-1})}{2 \\Delta t} =  \\frac{x_{i+1} - x_{i-1}}{2 \\Delta t}$$\n",
    "\n",
    "$$ v_y(t_i) = \\left . \\frac{dy}{dt} \\right |_{t_i}  = \\frac{y(t_{i+1}) - y(t_{i-1})}{2 \\Delta t} =  \\frac{y_{i+1} - y_{i-1}}{2 \\Delta t}$$\n",
    "\n",
    "<center>\n",
    "  <img src=\"discrete_central.png\" alt=\"Descripción de la imagen\" style=\"width:50%;\">\n",
    "</center>\n",
    "\n",
    "Mientas que para segunda derivada:\n",
    "\n",
    "$$ \\vec{a}(t_i) = \\left . \\frac{d^2 \\vec{r}}{dt^2} \\right |_{t_i}  = \\frac{\\vec{r}_{i+1} + \\vec{r}_{i-1} - 2 \\vec{r}_i}{2 \\Delta t}$$\n",
    "\n",
    "Es decir, se toma la diferencia de las posiciones adyacentes respecto al punto central, ponderadas de forma simétrica.\n",
    "\n",
    "#### **Consideraciones para programar el método:**\n",
    "\n",
    "Al implementar estas fórmulas en un programa, es importante tener en cuenta lo siguiente:\n",
    "\n",
    "- Datos igualmente espaciados:\n",
    "  Las fórmulas suponen un paso de tiempo constante $\\Delta t$. Si los datos no están uniformemente espaciados, estas aproximaciones no son válidas.\n",
    "\n",
    "- Dominio válido:\n",
    "  Las diferencias centrales requieren conocer los puntos anterior y siguiente, por lo que no pueden usarse en los extremos ($i = 0$ o $i = n-1$). En esos casos se puede:\n",
    "\n",
    "    - Usar diferencias hacia adelante o hacia atrás.\n",
    "\n",
    "    - O simplemente omitir el cálculo en los bordes.\n",
    "\n",
    "- Acceso a los datos:\n",
    "  No se evalúa una función continua, sino que se accede a elementos de un arreglo: $r[i+1]$, $r[i-1]$, $r[i]$. Es fundamental manejar bien los índices para evitar errores fuera de rango."
   ]
  },
  {
   "cell_type": "markdown",
   "metadata": {},
   "source": [
    "Realice lo mismo pero ahora calcule la fuerza del siguiente set de datos (con vector posición analítico desconocido):\n",
    "\n",
    "<center>\n",
    "  <img src=\"trj.png\" alt=\"Descripción de la imagen\" style=\"width:20%;\">\n",
    "</center>\n"
   ]
  },
  {
   "cell_type": "markdown",
   "metadata": {},
   "source": [
    "A continuación se cargan los datos:"
   ]
  },
  {
   "cell_type": "code",
   "execution_count": 46,
   "metadata": {},
   "outputs": [],
   "source": [
    "datos = np.load(\"datos_trayectorias.npz\")\n",
    "\n",
    "times_loaded = datos['times']\n",
    "positions_loaded = datos['positions']\n",
    "velocities_loaded = datos['velocities']"
   ]
  },
  {
   "cell_type": "markdown",
   "metadata": {},
   "source": [
    "Ahora trabaje usted:"
   ]
  },
  {
   "cell_type": "code",
   "execution_count": null,
   "metadata": {},
   "outputs": [],
   "source": [
    "# ..."
   ]
  },
  {
   "cell_type": "markdown",
   "metadata": {},
   "source": [
    "<div style=\"background-color: #d9ffd4; color: black; padding: 10px; border-radius: 5px;\">\n",
    "\n",
    "**Conclusión:** ¿Qué aprendimos?\n",
    "\n",
    "- Se definió la segunda derivada numérica mediante el método de diferencias centrales.\n",
    "\n",
    "- Se aplicó esta derivada para calcular la aceleración de un objeto a lo largo de una trayectoria bidimensional.\n",
    "\n",
    "- Se determinaron las fuerzas y velocidades correspondientes en dicha trayectoria.\n",
    "\n",
    "- Se utilizó la función quiver de matplotlib para representar vectores.\n",
    "\n",
    "- Se implementó la derivada central discreta para el análisis de datos cuando no se dispone de una función analítica, solo datos equiespaciados (dominio discreto).\n",
    "\n",
    "**Próxima clase:** Búsqueda de Raíces: Método de Newton-Rapson y Bisección\n",
    "</div>"
   ]
  },
  {
   "cell_type": "markdown",
   "metadata": {},
   "source": [
    "<div style=\"padding: 15px; border-top: 2px solid #2F4F4F; margin-top: 30px; background-color: var(--custom-bg-color); color: var(--custom-text-color);\">\n",
    "    <p style=\"font-family: Calibri, sans-serif; text-align: left; font-size: 16px;\">\n",
    "        Omar Fernández <br>\n",
    "        Profesor de Física Computacional III para Astrofísica <br>\n",
    "        Ingeniero Físico <br>\n",
    "        <a href=\"mailto:omar.fernandez.o@usach.cl\" class=\"email-link\">omar.fernandez.o@usach.cl</a> <br>\n",
    "    </p>\n",
    "</div>\n",
    "\n",
    "<style>\n",
    ":root {\n",
    "    --custom-bg-color: #F8F8F8;\n",
    "    --custom-text-color: #2F4F4F;\n",
    "    --custom-link-color: blue;\n",
    "}\n",
    "\n",
    "@media (prefers-color-scheme: dark) {\n",
    "    :root {\n",
    "        --custom-bg-color: #444444;\n",
    "        --custom-text-color: #F8F8F8;\n",
    "        --custom-link-color: magenta;\n",
    "    }\n",
    "}\n",
    "\n",
    ".email-link {\n",
    "    color: var(--custom-link-color);\n",
    "}\n",
    "</style>"
   ]
  }
 ],
 "metadata": {
  "kernelspec": {
   "display_name": "Python 3",
   "language": "python",
   "name": "python3"
  },
  "language_info": {
   "codemirror_mode": {
    "name": "ipython",
    "version": 3
   },
   "file_extension": ".py",
   "mimetype": "text/x-python",
   "name": "python",
   "nbconvert_exporter": "python",
   "pygments_lexer": "ipython3",
   "version": "3.10.11"
  }
 },
 "nbformat": 4,
 "nbformat_minor": 2
}
