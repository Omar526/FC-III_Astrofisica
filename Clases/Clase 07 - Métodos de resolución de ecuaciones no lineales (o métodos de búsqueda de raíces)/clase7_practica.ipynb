{
 "cells": [
  {
   "cell_type": "markdown",
   "metadata": {},
   "source": [
    "<div style=\"background-color: #d9ffd4; padding: 20px; border-radius: 10px;\">\n",
    "    <h1 style=\"color: #2F4F4F; font-family: Calibri, sans-serif; text-align: center;\">Clase 7</h1>\n",
    "    <p style=\"color: #2F4F4F; font-family: Calibri, Courier, monospace; text-align: center; font-size: 24px;\">\n",
    "        Métodos de resolución de ecuaciones no lineales (o métodos de búsqueda de raíces)\n",
    "    </p>\n",
    "</div>"
   ]
  },
  {
   "cell_type": "markdown",
   "metadata": {},
   "source": [
    "En esta clase implementaremos desde cero los métodos de **Newton-Raphson** y **Bisección**, los cuales permiten encontrar soluciones a ecuaciones no lineales. En términos generales, se trata de encontrar un valor $x$ talque $f(x) = 0$, donde la función $f(x)$ puede representar un comportamiento complejo. Por ejemplo, consideremos la siguiente ecuación no lineal:\n",
    "\n",
    "$$ f(x) = 3e^{-0.5x} \\sin (3x) = 0$$\n",
    "\n",
    "Esta es una ecuación no lineal cuya solución analítica no es sencilla de obtener. **¿Es posible despejar $x$ para hallar su solución exacta?** Retomaremos esta función más adelante en la clase. Por el momento, analizaremos un caso más simple a modo de introducción.\n",
    "\n",
    "Consideremos la siguiente función cuadrática:\n",
    "\n",
    "$$ f(x) = x^2 - 1 $$\n",
    "\n",
    "Nuestro objetivo es determinar las raíces de esta función, es decir, los valores de $x$, para los cuales se cumple que $f(x)=0$:\n",
    "\n",
    "$$ x^2 - 1 = 0 $$\n",
    "\n",
    "Dado que se trata de una ecuación no lineal simple, es posible hallar sus raíces de forma analítica:\n",
    "\n",
    "$$ x^2 - 1 = 0 \\rightarrow x^2 = 1 \\rightarrow x = \\pm \\sqrt{1} \\rightarrow x_A = 1 ~~,~~ x_B = -1$$\n",
    "\n",
    "A continuación, representaremos gráficamente la función para visualizar sus raíces:"
   ]
  },
  {
   "cell_type": "code",
   "execution_count": null,
   "metadata": {},
   "outputs": [],
   "source": [
    "import numpy as np\n",
    "import matplotlib.pyplot as plt\n",
    "\n",
    "def f(x):\n",
    "    return x**2 - 1\n",
    "\n",
    "x = np.linspace(start=-5, stop=5, num=300, endpoint=True)\n",
    "\n",
    "xA = 1\n",
    "xB = -1\n",
    "\n",
    "plt.plot(x, f(x), label=r\"$f(x) = x^2 -1$\")\n",
    "plt.axhline(0, ls=\":\", color=\"k\")\n",
    "plt.scatter([xA, xB], [f(xA), f(xB)], marker=\"x\", color=\"red\", label=r\"raíces de $f(x)$\")\n",
    "plt.grid(ls=\"--\")\n",
    "plt.legend()\n",
    "plt.xlabel(r\"$x$\")\n",
    "plt.ylabel(r\"$y$\")\n",
    "plt.xlim(-3,3)\n",
    "plt.ylim(-2, 4)"
   ]
  },
  {
   "cell_type": "markdown",
   "metadata": {},
   "source": [
    "### **Método de Newton-Rapson:**\n",
    "\n",
    "Ahora utilizaremos un enfoque alternativo para encontrar la raíz $x_A = 1$, calculando la **recta tangente** a la curva en un punto dado. Este procedimiento nos permitirá obtener aproximaciones sucesivas que nos acercan iterativamente a la raíz buscada. Así, llegamos naturalmente al **método de Newton-Raphson**.\n",
    "\n",
    "Pero antes, preguntémonos:  \n",
    "**¿Cómo se calcula la recta tangente a la curva de una función en un punto $x_0$?**\n",
    "\n",
    "Recordemos que la ecuación de la recta tangente a una función $f(x)$ en el punto $x_0$ se obtiene a partir de su derivada, y está dada por:\n",
    "\n",
    "$$\n",
    "y - y_0 = m(x - x_0)\n",
    "$$\n",
    "\n",
    "Donde:\n",
    "- $y_0 = f(x_0)$\n",
    "- $m = f'(x_0)$, es decir, la derivada de la función evaluada en $x_0$.\n",
    "\n",
    "Sustituyendo estos valores:\n",
    "\n",
    "$$\n",
    "y - f(x_0) = f'(x_0)(x - x_0)\n",
    "$$\n",
    "\n",
    "Nuestro objetivo es encontrar el valor de $x=x_1$ donde esta recta corta al eje $x$, es decir, cuando $y = 0$:\n",
    "\n",
    "$$\n",
    "0 - f(x_0) = f'(x_0)(x_1 - x_0)\n",
    "$$\n",
    "\n",
    "Despejando $x_1$:\n",
    "\n",
    "$$\n",
    "x_1 = x_0 - \\frac{f(x_0)}{f'(x_0)}\n",
    "$$\n",
    "\n",
    "Esta expresión define el paso fundamental del método de Newton-Raphson para aproximar raíces de funciones no lineales.\n"
   ]
  },
  {
   "cell_type": "markdown",
   "metadata": {},
   "source": [
    "Veamos cómo aplicar esta fórmula en un caso concreto.\n",
    "\n",
    "Considere por ejemplo el valor inicial $x_0 = 5$. Evaluamos la función y su derivada en este punto:\n",
    "\n",
    "- $f(x_0) = f(5) = 5^2 - 1 = 24$\n",
    "- $f'(x_0) = f'(5) = 2 \\cdot 5 = 10$\n",
    "\n",
    "Sustituyendo en la fórmula de Newton-Raphson:\n",
    "\n",
    "$$\n",
    "x_1 = x_0 - \\frac{f(x_0)}{f'(x_0)} = 5 - \\frac{24}{10} = 5 - 2.4 = 2.6\n",
    "$$\n",
    "\n",
    "Este nuevo valor $x_1 = 2.6$ es una mejor aproximación a la raíz de la función. A partir de aquí, podríamos seguir aplicando el método de forma iterativa para obtener estimaciones cada vez más precisas."
   ]
  },
  {
   "cell_type": "code",
   "execution_count": null,
   "metadata": {},
   "outputs": [],
   "source": [
    "x0 = 5\n",
    "x1 = 2.6\n",
    "\n",
    "plt.plot(x, f(x), label=r\"$f(x) = x^2 -1$\")\n",
    "plt.plot([x0,x1], [f(x0), 0], label=r\"pendiente en $x_0$\")\n",
    "plt.axhline(0, ls=\":\", color=\"k\")\n",
    "plt.scatter([xA, xB], [f(xA), f(xB)], marker=\"x\", color=\"red\", label=r\"raíces de $f(x)$\")\n",
    "plt.scatter([x0, x1], [f(x0), 0], marker=\"o\", color=\"green\", label=r\"$x_0=3$\")\n",
    "plt.grid(ls=\"--\")\n",
    "plt.legend()\n",
    "plt.xlabel(r\"$x$\")\n",
    "plt.ylabel(r\"$y$\")"
   ]
  },
  {
   "cell_type": "markdown",
   "metadata": {},
   "source": [
    "Podemos generalizar este procedimiento para obtener una fórmula que nos permita calcular iterativamente mejores aproximaciones a la raíz de una función. A partir de un valor inicial $x_n$, el siguiente valor $x_{n+1}$ se calcula mediante la siguiente expresión:\n",
    "\n",
    "$$ \\boxed{\\color{blue}{\n",
    "x_{n+1} = x_n - \\frac{f(x_n)}{f'(x_n)}\n",
    "}}$$\n",
    "\n",
    "Esta es la fórmula general del **método de Newton-Raphson**, una técnica iterativa poderosa que utiliza la pendiente de la tangente en la curva para acercarse sucesivamente a una raíz de la función.\n",
    "\n",
    "En el siguiente gráfico, se ilustra de manera visual cómo el método se aproxima a la raíz en cada iteración:\n"
   ]
  },
  {
   "cell_type": "markdown",
   "metadata": {},
   "source": [
    "<div style=\"display: flex; justify-content: center; gap: 20px; max-width: 900px; margin: auto;\">\n",
    "  <div style=\"flex: 1; text-align: center;\">\n",
    "    <img src=\"newton_rapson_plot_new.png\" alt=\"Newton-Raphson Paso 1\" style=\"width: 100%; height: auto;\">\n",
    "  </div>\n",
    "  <div style=\"flex: 1; text-align: center;\">\n",
    "    <img src=\"newton_rapson_plot_new_zoom.png\" alt=\"Newton-Raphson Paso 2\" style=\"width: 100%; height: auto;\">\n",
    "  </div>\n",
    "</div>\n"
   ]
  },
  {
   "cell_type": "markdown",
   "metadata": {},
   "source": [
    "A continuación defina el algoritmo de Newton-Rapson como una función utilizando un ciclo `for`, itere $n=5$ veces y devuelva las n-ésimas aproximaciones:"
   ]
  },
  {
   "cell_type": "code",
   "execution_count": null,
   "metadata": {},
   "outputs": [],
   "source": [
    "def f(x):\n",
    "    return x**2 - 1\n",
    "\n",
    "def df(x):\n",
    "    return 2*x\n",
    "\n",
    "def Newton_Rapson(??):\n",
    "    # su solución acá\n",
    "\n",
    "    return ??\n",
    "\n",
    "xn = Newton_Rapson()\n",
    "\n",
    "print(xn)"
   ]
  },
  {
   "cell_type": "markdown",
   "metadata": {},
   "source": [
    "En este algoritmo, no sabemos cuántas iteraciones serán necesarias para obtener la raíz deseada. Por lo tanto, el bucle `while` nos permite continuar iterando indefinidamente hasta que se cumpla la condición $f(x_n) = 0$. Reimplemente Newton-Rapson y devuelva la raíz más el número de iteraciones empleado:\n"
   ]
  },
  {
   "cell_type": "code",
   "execution_count": null,
   "metadata": {},
   "outputs": [],
   "source": [
    "def f(x):\n",
    "    return x**2 - 1\n",
    "\n",
    "def df(x):\n",
    "    return 2*x\n",
    "\n",
    "def Newton_Rapson(??):\n",
    "\n",
    "    # ...\n",
    "    return ?? \n",
    "\n"
   ]
  },
  {
   "cell_type": "markdown",
   "metadata": {},
   "source": [
    "<div style=\"background-color: #FFF9AD; color: black; padding: 10px; border-radius: 5px;\">\n",
    "\n",
    "**Ejercicio:** Con el método de Newton-Rapson, encuentre una de las raíces de $f(x) = x^3 -2x - 5$, iniciando en $x_0=2$:\n",
    "\n",
    "</div>"
   ]
  },
  {
   "cell_type": "code",
   "execution_count": null,
   "metadata": {},
   "outputs": [],
   "source": [
    "import time\n",
    "\n",
    "def f(x):\n",
    "    return ??\n",
    "\n",
    "def df(x):\n",
    "    return ??\n",
    "\n",
    "\n",
    "#..."
   ]
  },
  {
   "cell_type": "markdown",
   "metadata": {},
   "source": [
    "Para que el algoritmo converja, debemos introducir un parámetro de tolerancia $\\delta$, y así evitar iteraciones infinitas. Este parámetro garantiza que la función $f(x)$ esté suficientemente cerca de cero, lo que indica una posible raíz. Si $∣f(x)∣<\\delta$, se considera que $f(x)$ es prácticamente cero. Por ejemplo, si $\\delta= 0.001$, buscamos que $−0.001< f(x) < 0.001$, asegurando que estamos cerca de la raíz sin necesidad de alcanzar exactamente cero."
   ]
  },
  {
   "cell_type": "markdown",
   "metadata": {},
   "source": [
    "De forma general, nuestro método quedará como:"
   ]
  },
  {
   "cell_type": "code",
   "execution_count": null,
   "metadata": {},
   "outputs": [],
   "source": [
    "def f(x):\n",
    "    return x**3 - 2*x - 5\n",
    "\n",
    "def df(x):\n",
    "    return 3*x**2 - 2\n",
    "\n",
    "def Newton_Rapson(x0, f, df, delta=1e-4):\n",
    "\n",
    "    # código\n",
    "\n",
    "\n",
    "    return xn, n\n",
    "\n",
    "# Valor inicial\n",
    "x0 = 2\n",
    "\n",
    "#x≈2.09455 valor de la raiz\n",
    "\n",
    "xn, n = Newton_Rapson(x0=x0, f=f, df=df, delta=1e-10)\n",
    "\n",
    "print(f\"La raiz de la función es: {xn:.5f}\")\n",
    "print(f\"Número de iteraciones empleadas para calcular la raiz: {n}\")"
   ]
  },
  {
   "cell_type": "markdown",
   "metadata": {},
   "source": [
    "Ahora, intente encontrar la raiz de la función \n",
    "\n",
    "$$f(x) = 10\\tanh(x) + x$$\n",
    "\n",
    "que tiene por derivada analítica:\n",
    "\n",
    "$$ f'(x) = 10(1-\\tanh^2(x)) + 1 $$\n",
    "\n",
    "Defina el dominio $x$ entre [-15, 15]. Comience a iterar desde $x_0 = 10$, con tolerancia de $\\delta = 10^{-10}$."
   ]
  },
  {
   "cell_type": "code",
   "execution_count": null,
   "metadata": {},
   "outputs": [],
   "source": [
    "def mi_funcion(x):\n",
    "    return ??\n",
    "\n",
    "def d_mi_funcion(x):\n",
    "    return ??\n",
    "\n",
    "x = np.linspace(-15, 15, 50, True)\n",
    "\n",
    "plt.plot(x, mi_funcion(x))\n",
    "plt.grid(ls=\"--\")\n",
    "plt.scatter(0,0, marker=\"x\", color=\"red\")"
   ]
  },
  {
   "cell_type": "code",
   "execution_count": null,
   "metadata": {},
   "outputs": [],
   "source": [
    "x0=10\n",
    "\n",
    "xn, n = Newton_Rapson(f=mi_funcion, df=d_mi_funcion, x0=x0, delta=1e-5)\n",
    "\n",
    "xn"
   ]
  },
  {
   "cell_type": "markdown",
   "metadata": {},
   "source": [
    "El método no converje, a pesar de la tolerancia! Ejecute las siguientes celdas para observar la animación:"
   ]
  },
  {
   "cell_type": "code",
   "execution_count": null,
   "metadata": {},
   "outputs": [],
   "source": [
    "%%capture\n",
    "from root_finding_animations import NR_animation\n",
    "ani = NR_animation()"
   ]
  },
  {
   "cell_type": "code",
   "execution_count": null,
   "metadata": {},
   "outputs": [],
   "source": [
    "from IPython.display import HTML\n",
    "HTML(ani.to_jshtml())"
   ]
  },
  {
   "cell_type": "markdown",
   "metadata": {},
   "source": [
    "Defina ahora el método de Newton-Rapson con tolerancia y número máximo de iteraciones.\n",
    "\n",
    "*Pista: recuerde el uso de `break`*"
   ]
  },
  {
   "cell_type": "code",
   "execution_count": null,
   "metadata": {},
   "outputs": [],
   "source": [
    "def Newton_Rapson(x0, f, df, delta=1e-4, max_iter=1000):\n",
    "\n",
    "    return \n",
    "\n",
    "x0=10\n",
    "\n",
    "xn, n = Newton_Rapson(f=mi_funcion, df=d_mi_funcion, x0=x0)\n",
    "\n",
    "xn"
   ]
  },
  {
   "cell_type": "markdown",
   "metadata": {},
   "source": [
    "### **Método de Bisección**\n",
    "\n",
    "Se propone el método de bisección, que no tiene este problema, ya que no utiliza derivadas para encontrar la solución.\n",
    "\n",
    "El algoritmo de bisección funciona de la siguiente manera:\n",
    "\n",
    "1. Se elige un intervalo inicial [a, b]  donde la función cambie de signo, es decir, talque $f(a) \\cdot f(b) = -1$\n",
    "2. Se calcula el punto medio c del intervalo [a, b] .\n",
    "3. Se evalúa la función en el punto medio  c .\n",
    "4. Se determina en qué subintervalo  [a, c] o  [c, b]  está la raíz basándose en el cambio de signo de la función en  c.\n",
    "5. Se repiten los pasos 2-4 hasta que la longitud del intervalo sea menor que una tolerancia predefinida o se alcance un número máximo de iteraciones.\n",
    "\n",
    "El método de bisección garantiza la convergencia a la raíz real de la función si se cumplen ciertas condiciones, como la continuidad de la función en el intervalo y la existencia de una raíz en ese intervalo.\n",
    "\n",
    "Ejecute la siguiente celda:"
   ]
  },
  {
   "cell_type": "code",
   "execution_count": null,
   "metadata": {},
   "outputs": [],
   "source": [
    "%%capture\n",
    "\n",
    "from matplotlib.animation import FuncAnimation\n",
    "\n",
    "\n",
    "# Definir la función\n",
    "def f(x):\n",
    "    return 10*np.tanh(x) + x\n",
    "\n",
    "# Definir el intervalo inicial\n",
    "a = -10\n",
    "b = 15\n",
    "\n",
    "# Configuración inicial de la gráfica\n",
    "fig, ax = plt.subplots()\n",
    "ax.scatter(0, 0, marker=\"o\", color=\"red\")\n",
    "x_vals = np.linspace(-15, 15, 100, True)\n",
    "y_vals = f(x_vals)\n",
    "ax.plot(x_vals, y_vals, label=r'$f(x) = 10\\tanh (x) - x$')\n",
    "ax.axhline(0, color='black', linewidth=0.5, linestyle='--')  # línea horizontal en y=0\n",
    "#line, = ax.plot([], [], 'r-', lw=2)\n",
    "root_point, = ax.plot([], [], 'rx')  # Marca 'x' para la raíz\n",
    "root_line = ax.axvline(x=0, color='g', linestyle='--')  # Línea vertical para la raíz\n",
    "ax.set_xlim(-10,10)\n",
    "ax.set_ylim(-20,20)\n",
    "\n",
    "# Función de inicialización de la animación\n",
    "def init():\n",
    "    #line.set_data([], [])\n",
    "    root_point.set_data([], [])\n",
    "    root_line.set_xdata(0)\n",
    "    return root_point, root_line\n",
    "\n",
    "# Función de actualización de la animación\n",
    "def update(frame):\n",
    "    global a, b\n",
    "    c = (a + b) / 2\n",
    "    if f(c) * f(a) < 0:\n",
    "        b = c\n",
    "    else:\n",
    "        a = c\n",
    "    #line.set_data([a, b], [f(a), f(b)])\n",
    "    \n",
    "    # Mostrar la raíz\n",
    "    root_x = (a + b) / 2\n",
    "    root_point.set_data(root_x, f(root_x))\n",
    "    root_line.set_xdata(root_x)\n",
    "    \n",
    "    # Resaltar el intervalo de convergencia\n",
    "    ax.axvspan(a, b, alpha=0.3, color='gray')\n",
    "    \n",
    "    return root_point, root_line\n",
    "\n",
    "# Crear la animación\n",
    "ani = FuncAnimation(fig, update, frames=range(20), init_func=init, blit=True)\n",
    "\n",
    "# Mostrar la animación\n",
    "plt.xlabel('x')\n",
    "plt.ylabel('f(x)')\n",
    "plt.title('Método de Bisección')\n",
    "plt.legend()\n",
    "plt.grid(True)"
   ]
  },
  {
   "cell_type": "code",
   "execution_count": null,
   "metadata": {},
   "outputs": [],
   "source": [
    "from IPython.display import HTML\n",
    "HTML(ani.to_jshtml())"
   ]
  },
  {
   "cell_type": "markdown",
   "metadata": {},
   "source": [
    "Definamos paso a paso el método de Bisección:"
   ]
  },
  {
   "cell_type": "code",
   "execution_count": null,
   "metadata": {},
   "outputs": [],
   "source": [
    "def Biseccion(f, a, b, delta=0.00001, iter_max=1000):\n",
    "\n",
    "    c = (a+b)/2 # punto medio\n",
    "\n",
    "    n = 0 # iteraciones\n",
    "\n",
    "\n",
    "    while abs(f(c)) > delta:\n",
    "\n",
    "        n = n + 1 # contamos iteraciones\n",
    "\n",
    "        if f(a)*f(c) < 0: # condición de existencia de raiz en el intervalo\n",
    "\n",
    "            b = c\n",
    "        else:\n",
    "            a = c\n",
    "        \n",
    "        c = (a+b)/2\n",
    "\n",
    "        if n == iter_max: # número máximo de iteraciones\n",
    "            print(\"Error, se alcanzó el número máximo de iteraciones\")\n",
    "            break\n",
    "\n",
    "    return c, n\n",
    "        \n",
    "def f(x):\n",
    "    return 10*np.tanh(x) + x\n",
    "\n",
    "x, n = Biseccion(f, a=-10, b=2.5)\n",
    "\n",
    "print(x)\n",
    "print(n)"
   ]
  },
  {
   "cell_type": "markdown",
   "metadata": {},
   "source": [
    "<div style=\"background-color: #FFF9AD; color: black; padding: 10px; border-radius: 5px;\">\n",
    "\n",
    "**Ejercicio**: Encuentre la intersección entre $ f(x) = 2e^{-0.5x}\\sin(3x) $ y $g(x) = -0.05x + 0.3$,\n",
    "\n",
    "<!-- <div style=\"text-align:center;\">\n",
    "    <img src=\"non_linear_exercise.png\" alt=\"exercise\" style=\"width:40%;\">\n",
    "</div> -->\n",
    "\n",
    "<div style=\"text-align:center;\">\n",
    "    <img src=\"non_linear_exercise.png\" alt=\"exercise\" style=\"width:50%; max-width: 50%;\">\n",
    "</div>\n",
    "\n",
    "Es decir, encuentre los valores de $x$ talque $f(x) = g(x)$, o lo que es lo mismo: $h(x) = f(x) - g(x) = 0$\n",
    "\n",
    "$$ 2e^{-0.5x}\\sin(3x) + 0.05x-0.3 =0$$\n",
    "\n",
    "Utilice cualquiera de los métodos estudiados en clase y genere una rutina para encontar **todas** las soluciones de la ecuación.\n",
    "\n",
    "</div>"
   ]
  },
  {
   "cell_type": "code",
   "execution_count": null,
   "metadata": {},
   "outputs": [],
   "source": [
    "# su implementación..."
   ]
  },
  {
   "cell_type": "markdown",
   "metadata": {},
   "source": [
    "<div style=\"background-color: #d9ffd4; color: black; padding: 10px; border-radius: 5px;\">\n",
    "\n",
    "**Conclusión:** ¿Qué aprendimos?\n",
    "\n",
    "En esta sesión exploramos y comparamos dos métodos numéricos clave para encontrar raíces de funciones no lineales: el **método de Newton-Raphson** y el **método de Bisección**.\n",
    "\n",
    "**Newton-Raphson**\n",
    "\n",
    "Es un método iterativo que utiliza la recta tangente de la función para aproximar la raíz.  \n",
    "- **Ventajas**: Alta eficiencia y rápida convergencia.  \n",
    "- **Limitaciones**: Requiere la derivada de la función y puede fallar si el punto inicial no es adecuado o si la derivada se anula.\n",
    "\n",
    "En particular, observamos que al aplicar el método a la función $ f(x) = 10\\tanh(x) - x $, este puede entrar en un ciclo y no converger.\n",
    "\n",
    "\n",
    "**Bisección**\n",
    "\n",
    "Método robusto que garantiza la convergencia si la función presenta un cambio de signo en el intervalo evaluado.  \n",
    "- **Ventajas**: Gran estabilidad y confiabilidad.  \n",
    "- **Limitaciones**: Convergencia más lenta en comparación con Newton-Raphson.\n",
    "\n",
    "\n",
    "\n",
    "Ambos métodos permiten definir una **tolerancia** para controlar la precisión y convergencia; además de un número máximo de iteraciones (**iter\\_max**) para evitar ciclos infinitos.\n",
    "\n",
    "En resumen, **Newton-Raphson** es más rápido pero menos estable, mientras que **Bisección** es más confiable aunque más lento.\n",
    "\n",
    "**Próxima clase:** Aplicación de derivadas numéricas y métodos de búsqueda de raíces.\n",
    "\n",
    "</div>"
   ]
  },
  {
   "cell_type": "markdown",
   "metadata": {},
   "source": [
    "<div style=\"padding: 15px; border-top: 2px solid #2F4F4F; margin-top: 30px; background-color: var(--custom-bg-color); color: var(--custom-text-color);\">\n",
    "    <p style=\"font-family: Calibri, sans-serif; text-align: left; font-size: 16px;\">\n",
    "        Omar Fernández <br>\n",
    "        Profesor de Física Computacional III para Astrofísica <br>\n",
    "        Ingeniero Físico <br>\n",
    "        <a href=\"mailto:omar.fernandez.o@usach.cl\" class=\"email-link\">omar.fernandez.o@usach.cl</a> <br>\n",
    "    </p>\n",
    "</div>\n",
    "\n",
    "<style>\n",
    ":root {\n",
    "    --custom-bg-color: #F8F8F8;\n",
    "    --custom-text-color: #2F4F4F;\n",
    "    --custom-link-color: blue;\n",
    "}\n",
    "\n",
    "@media (prefers-color-scheme: dark) {\n",
    "    :root {\n",
    "        --custom-bg-color: #444444;\n",
    "        --custom-text-color: #F8F8F8;\n",
    "        --custom-link-color: magenta;\n",
    "    }\n",
    "}\n",
    "\n",
    ".email-link {\n",
    "    color: var(--custom-link-color);\n",
    "}\n",
    "</style>"
   ]
  }
 ],
 "metadata": {
  "kernelspec": {
   "display_name": "Python 3",
   "language": "python",
   "name": "python3"
  },
  "language_info": {
   "codemirror_mode": {
    "name": "ipython",
    "version": 3
   },
   "file_extension": ".py",
   "mimetype": "text/x-python",
   "name": "python",
   "nbconvert_exporter": "python",
   "pygments_lexer": "ipython3",
   "version": "3.10.11"
  }
 },
 "nbformat": 4,
 "nbformat_minor": 2
}
