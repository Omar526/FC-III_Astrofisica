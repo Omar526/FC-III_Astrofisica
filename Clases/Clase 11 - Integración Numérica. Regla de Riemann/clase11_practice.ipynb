{
 "cells": [
  {
   "cell_type": "markdown",
   "metadata": {},
   "source": [
    "<div style=\"background-color: #d9ffd4; padding: 20px; border-radius: 10px;\">\n",
    "    <h1 style=\"color: #2F4F4F; font-family: Calibri, sans-serif; text-align: center;\">Clase 11</h1>\n",
    "    <p style=\"color: #2F4F4F; font-family: Calibri, Courier, monospace; text-align: center; font-size: 24px;\">\n",
    "        Introducción a la integración numérica. Regla de Riemann.\n",
    "    </p>\n",
    "</div>"
   ]
  },
  {
   "cell_type": "markdown",
   "metadata": {},
   "source": [
    "La integral de una función suele interpretarse como el _área bajo la curva_. En ingeniería y ciencias, esta herramienta matemática tiene múltiples aplicaciones para modelar, analizar y predecir el comportamiento de sistemas físicos. No obstante, en muchos casos prácticos, obtener una solución exacta para una integral resulta muy difícil o incluso imposible. Un ejemplo de ello es la integral que se utiliza para calcular la longitud de la curva en un oscilador armónico amortiguado:\n",
    "\n",
    "$$ L = \\int_{a}^{b} \\sqrt{1 + \\left(3e^{-0.5x} \\left(\\cos(3x) - \\frac{1}{2} \\sin(3x)\\right)\\right)^2} \\, dx\n",
    " $$\n",
    "\n",
    "En esta unidad exploraremos diversos métodos para calcular integrales de forma numérica y analizaremos algunas de sus aplicaciones. Al finalizar el capítulo, usted será capaz de comprender los fundamentos de estos métodos, su interpretación geométrica, su grado de exactitud y cómo implementarlos en Python."
   ]
  },
  {
   "cell_type": "markdown",
   "metadata": {},
   "source": [
    "### **Integral definida como el límite de una suma de Riemann**\n",
    "\n",
    "Dada una función $ f(x) $, queremos aproximar la integral $ \\int_a^b f(x) \\, dx $ mediante la suma del área de $(n-1)$ rectángulos (definidos por $n$ puntos), donde el ancho de cada rectángulo es $\\Delta x $ y la altura está determinada por el valor de $ f(x_i) $. La suma de todas estas áreas es igual a la integral definida cuando el número de rectángulos tiende a infinito:\n",
    "\n",
    "$$ \\int_a^b f(x) \\, dx = \\lim_{n \\rightarrow \\infty} \\sum_{i=0}^{n-1} \\Delta x \\cdot f(x_i) $$\n"
   ]
  },
  {
   "cell_type": "markdown",
   "metadata": {},
   "source": [
    "<p align=\"center\">\n",
    "  <img src=\"riemann_plot.png\" style=\"max-width: 65%; height: auto;\">\n",
    "</p>"
   ]
  },
  {
   "cell_type": "markdown",
   "metadata": {},
   "source": [
    "Notar que $\\Delta x = \\frac{b-a}{n}$ y que $x_i = a + i \\cdot \\Delta x$."
   ]
  },
  {
   "cell_type": "markdown",
   "metadata": {},
   "source": [
    "<div style=\"background-color: #FFF9AD; color: black; padding: 10px; border-radius: 5px;\">\n",
    "\n",
    "**Ejercicio teórico:** Calcule la integral definida de $f(x) = 3x^2$ en el intervalo $[0, 2]$ y el límite de la suma de Riemann para comprobar que ambos resultados coinciden. (*Solución $=8$)\n",
    "</div>"
   ]
  },
  {
   "cell_type": "markdown",
   "metadata": {},
   "source": [
    "<div style=\"background-color: #d4eeff; color: black; padding: 10px; border-radius: 5px;\">\n",
    "\n",
    "### **Integración Numérica: Regla de Riemann**\n",
    "\n",
    "Como vimos en la unidad sobre derivación numérica, los límites que van a infinito o a cero no funcionan bien en la computación científica. ¿De verdad podemos sumar infinitos rectángulos, cada uno con un grosor tan pequeño que es casi cero para la computadora? Matemáticamente sí es posible, pero en computación no: no contamos con tiempo ni procesadores infinitos, ni con memoria infinita para manejar tanta información. Por eso, en lugar de usar infinitos rectángulos con grosor infinitesimal, trabajamos con una cantidad finita de ellos:\n",
    "\n",
    "$$ \\int_a^b f(x) \\, dx \\approx \\sum_{i=0}^{n-1} \\Delta x \\cdot f(x_i) ~~,~~ \\Delta x = \\frac{b-a}{n}~~,~~x_i = a + i \\cdot \\Delta x$$\n",
    "\n",
    "</div>"
   ]
  },
  {
   "cell_type": "markdown",
   "metadata": {},
   "source": [
    "<div style=\"background-color: #FFF9AD; color: black; padding: 10px; border-radius: 5px;\">\n",
    "\n",
    "**Ejercicio teórico:** Calcule la integral definida de $f(x) = 3x^2$ en el intervalo $[0, 2]$  utilizando la regla de Riemann con $n=4$. Compare con el resultado exacto y determine el error relativo porcentual.\n",
    "</div>"
   ]
  },
  {
   "cell_type": "code",
   "execution_count": null,
   "metadata": {},
   "outputs": [],
   "source": [
    "# grafique y dibuje los rectángulos que está sumando\n",
    "\n"
   ]
  },
  {
   "cell_type": "markdown",
   "metadata": {},
   "source": [
    "<div style=\"background-color: #FFF9AD; color: black; padding: 10px; border-radius: 5px;\">\n",
    "\n",
    "**Ejercicio:** implemente la suma de Riemann para calcular la siguiente integral definida\n",
    "\n",
    "$$ I = \\int_0^\\pi \\sin(x)\\,dx $$\n",
    "\n",
    "considerando $n = 10$. Para ello:\n",
    "\n",
    "1. Grafique y pinte el área bajo la curva.\n",
    "2. Defina una función donde implemente la regla de Riemann para calcular la integral de cualquier función.\n",
    "3. Calcule la integral $I$ e imprima su resultado.\n",
    "\n",
    "</div>"
   ]
  },
  {
   "cell_type": "code",
   "execution_count": null,
   "metadata": {},
   "outputs": [],
   "source": [
    "import numpy as np\n",
    "import matplotlib.pyplot as plt\n",
    "\n",
    "# Su código aquí\n",
    "\n",
    "def f(x):\n",
    "    return np.sin(x)\n",
    "\n",
    "def Integral_de_Riemann(??):\n",
    "                        \n",
    "    return ??"
   ]
  },
  {
   "cell_type": "markdown",
   "metadata": {},
   "source": [
    "$$ I = \\int_0^\\pi \\sin(x) \\,dx  = \\left. -\\cos(x) \\right|_0^\\pi =  \\left(  \\cos 0 - \\cos \\pi \\right) = (1- (-1)) = 2 $$"
   ]
  },
  {
   "cell_type": "markdown",
   "metadata": {},
   "source": [
    "¿Existirá un número óptimo $n^*$ que minimiza el error de nuestra aproximación? Pruebe diferentes valores de $n$ y calcule el error relativo porcentual en cada uno de ellos. Haga una gráfica de $I$ vs $\\log(n)$ y $\\varepsilon_{\\%}$ vs $\\log(n)$, o lo que es lo mismo, usar `plt.semilogx`, Desde $N=10$ hasta $N=10000$ con incrementos de $50$."
   ]
  },
  {
   "cell_type": "code",
   "execution_count": null,
   "metadata": {},
   "outputs": [],
   "source": [
    "def f(x):\n",
    "    return np.sin(x)\n",
    "\n",
    "# su código\n",
    "\n"
   ]
  },
  {
   "cell_type": "markdown",
   "metadata": {},
   "source": [
    "¿Es posible calcular numéricamente la integral $I$?\n",
    "\n",
    " $$ I = \\int_0^1 \\frac{\\cos(x)}{\\sqrt{x}} $$"
   ]
  },
  {
   "cell_type": "code",
   "execution_count": null,
   "metadata": {},
   "outputs": [],
   "source": [
    "# su código"
   ]
  },
  {
   "cell_type": "markdown",
   "metadata": {},
   "source": [
    "Determine el área encerrada por una elipse mediante el cálculo de la integral numérica:\n",
    "\n",
    "$$ A = \\frac{4b}{a} \\int_0^a \\sqrt{a^2 - x^2} \\, dx$$\n",
    "\n",
    "Considere que $a = 2$ y $b=1$. Recuerde que el resultado analítico es $A=\\pi a b$. Determine el valor de $n$ que permite una precisión de 10 decimales. Use un ciclo `while` para evualar la condición de presición."
   ]
  },
  {
   "cell_type": "code",
   "execution_count": null,
   "metadata": {},
   "outputs": [],
   "source": [
    "# su código"
   ]
  },
  {
   "cell_type": "markdown",
   "metadata": {},
   "source": [
    "<div style=\"background-color: #d9ffd4; color: black; padding: 10px; border-radius: 5px;\">\n",
    "\n",
    "**Conclusión:** ¿Qué aprendimos?\n",
    "\n",
    "- Demostramos que la integral definida de una función y el área bajo su curva son iguales para un caso particular.\n",
    "- Estudiamos un primer algoritmo numérico para calcular integrales definidas de manera aproximada: Regla de Riemann\n",
    "- Exploramos que existe un número $n$ óptimo para el algoritmo.\n",
    "- Estudiamos algunos trucos de cambio de variable para remover indeterminaciones de integrales.\n",
    "\n",
    "\n",
    "**Próxima clase:** Integración Numérica: Regla del Trapecio\n",
    "\n",
    "Nos enfocaremos en cómo aproximar el valor de integrales definidas cuando la función no tiene una antiderivada conocida o cuando solo disponemos de datos discretos. Veremos métodos como el de Riemann, Trapecio y Simpson.\n",
    "\n",
    "</div>"
   ]
  },
  {
   "cell_type": "markdown",
   "metadata": {},
   "source": [
    "<div style=\"padding: 15px; border-top: 2px solid #2F4F4F; margin-top: 30px; background-color: var(--custom-bg-color); color: var(--custom-text-color);\">\n",
    "    <p style=\"font-family: Calibri, sans-serif; text-align: left; font-size: 16px;\">\n",
    "        Omar Fernández <br>\n",
    "        Profesor de Física Computacional III para Astrofísica <br>\n",
    "        Ingeniero Físico <br>\n",
    "        <a href=\"mailto:omar.fernandez.o@usach.cl\" class=\"email-link\">omar.fernandez.o@usach.cl</a> <br>\n",
    "    </p>\n",
    "</div>\n",
    "\n",
    "<style>\n",
    ":root {\n",
    "    --custom-bg-color: #F8F8F8;\n",
    "    --custom-text-color: #2F4F4F;\n",
    "    --custom-link-color: blue;\n",
    "}\n",
    "\n",
    "@media (prefers-color-scheme: dark) {\n",
    "    :root {\n",
    "        --custom-bg-color: #444444;\n",
    "        --custom-text-color: #F8F8F8;\n",
    "        --custom-link-color: magenta;\n",
    "    }\n",
    "}\n",
    "\n",
    ".email-link {\n",
    "    color: var(--custom-link-color);\n",
    "}\n",
    "</style>"
   ]
  }
 ],
 "metadata": {
  "kernelspec": {
   "display_name": "Python 3",
   "language": "python",
   "name": "python3"
  },
  "language_info": {
   "codemirror_mode": {
    "name": "ipython",
    "version": 3
   },
   "file_extension": ".py",
   "mimetype": "text/x-python",
   "name": "python",
   "nbconvert_exporter": "python",
   "pygments_lexer": "ipython3",
   "version": "3.10.11"
  }
 },
 "nbformat": 4,
 "nbformat_minor": 2
}
