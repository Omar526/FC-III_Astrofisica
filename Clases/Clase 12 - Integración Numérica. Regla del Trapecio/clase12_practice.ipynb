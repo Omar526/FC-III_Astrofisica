{
 "cells": [
  {
   "cell_type": "markdown",
   "metadata": {},
   "source": [
    "<div style=\"background-color: #d9ffd4; padding: 20px; border-radius: 10px;\">\n",
    "    <h1 style=\"color: #2F4F4F; font-family: Calibri, sans-serif; text-align: center;\">Clase 12</h1>\n",
    "    <p style=\"color: #2F4F4F; font-family: Calibri, Courier, monospace; text-align: center; font-size: 24px;\">\n",
    "        Integración Numérica. Regla del trapecio\n",
    "    </p>\n",
    "</div>"
   ]
  },
  {
   "cell_type": "markdown",
   "metadata": {},
   "source": [
    "Como revisamos la clase anterior, la integral de una función se describe normalmente como el \"área bajo la curva\". Una primera aproximación para calcular esta área es mediante la suma de Riemann, que corresponde a sumar el área de $(n-1)$ rectángulos (definidos por $n$ puntos), donde el ancho de cada rectángulo es $\\Delta x $ y la altura está determinada por el valor de $ f(x_i) $:\n",
    "\n",
    "$$ \\int_a^b f(x) \\, dx \\approx \\sum_{i=0}^{n-1} \\Delta x \\cdot f(x_i) ~~,~~ \\Delta x = \\frac{b-a}{n}~~,~~x_i = a + i \\cdot \\Delta x$$\n"
   ]
  },
  {
   "cell_type": "markdown",
   "metadata": {},
   "source": [
    "<p align=\"center\">\n",
    "  <img src=\"riemann_plot.png\" style=\"max-width: 65%; height: auto;\">\n",
    "</p>"
   ]
  },
  {
   "cell_type": "markdown",
   "metadata": {},
   "source": [
    "### **¿Cómo podríamos mejorar la precisión de la integración numérica con el enfoque de área bajo la curva?**\n",
    "\n",
    "En lugar de aproximar el área bajo la curva con rectángulos de ancho $\\Delta x$, podemos utilizar trapecios para mejorar la precisión de la integración numérica. En este enfoque, llamado método trapezoidal o regla del trapecio, dividimos el intervalo $[a,b]$ en $n$ subintervalos de igual longitud $ \\Delta x=\\frac{b-a}{n} $​. Luego, aproximamos el área bajo la curva dentro de cada subintervalo con un trapecio:\n",
    "\n",
    "<p align=\"center\">\n",
    "  <img src=\"riemann_plot_2.png\" style=\"max-width: 65%; height: auto;\">\n",
    "</p>"
   ]
  },
  {
   "cell_type": "markdown",
   "metadata": {},
   "source": [
    "La fórmula para calcular el **área de un trapecio** con altura $h$ y bases $y_1$ y $y_2$ es:\n",
    "\n",
    "$$\n",
    "A_T = \\frac{h(y_1 + y_2)}{2}\n",
    "$$\n",
    "\n",
    "Cuando aplicamos esta fórmula para aproximar el área bajo una curva $f(x)$ en un intervalo $[a, b]$, dividimos el intervalo en $n$ subintervalos de igual longitud:\n",
    "\n",
    "$$\n",
    "\\Delta x = \\frac{b - a}{n}\n",
    "$$\n",
    "\n",
    "Cada subintervalo forma un trapecio con extremos en los puntos $x_i = a + i \\cdot \\Delta x$, y el área del trapecio $i$-ésimo se puede calcular como:\n",
    "\n",
    "$$\n",
    "A_i = \\Delta x \\cdot \\left( \\frac{f(x_i) + f(x_{i+1})}{2} \\right)\n",
    "$$\n",
    "\n",
    "Por ejemplo, el primer trapecio ($i = 0$) tiene área:\n",
    "\n",
    "$$\n",
    "A_0 = \\Delta x \\cdot \\left( \\frac{f(x_0) + f(x_1)}{2} \\right)\n",
    "$$\n",
    "\n",
    "Sumando las áreas de todos los trapecios obtenemos una aproximación de la integral:\n",
    "\n",
    "$$\n",
    "\\int_a^b f(x) \\, dx \\approx \\sum_{i=0}^{n-1} \\frac{\\Delta x}{2} \\left( f(x_i) + f(x_{i+1}) \\right)\n",
    "$$\n",
    "\n",
    "\n",
    "#### **Forma Equivalente: Suma Ponderada**\n",
    "\n",
    "La fórmula anterior se puede reescribir como una **suma ponderada** de los valores de $f(x_i)$:\n",
    "\n",
    "$$\n",
    "\\int_a^b f(x) \\, dx \\approx \\sum_{i=0}^{n} \\omega_i f(x_i)\n",
    "$$\n",
    "\n",
    "Donde los **pesos** $\\omega_i$ están dados por:\n",
    "\n",
    "$$\n",
    "\\omega_i =\n",
    "\\begin{cases}\n",
    "\\frac{\\Delta x}{2} & \\text{si } i = 0 \\text{ o } i = n \\\\\n",
    "\\Delta x & \\text{si } 1 \\leq i \\leq n - 1\n",
    "\\end{cases}\n",
    "$$\n",
    "\n",
    "Es decir, el primer y el último valor tienen la mitad del peso que los valores intermedios:\n",
    "\n",
    "$$\n",
    "\\omega_i = \\left[ \\frac{\\Delta x}{2}, \\Delta x, \\Delta x, \\dots, \\Delta x, \\frac{\\Delta x}{2} \\right]\n",
    "$$"
   ]
  },
  {
   "cell_type": "markdown",
   "metadata": {},
   "source": [
    "<div style=\"background-color: #d4eeff; color: black; padding: 10px; border-radius: 5px;\">\n",
    "\n",
    "### **Integración Numérica: Regla del trapecio**\n",
    "\n",
    "Resumen del algoritmo:\n",
    "\n",
    "$$ \\int_a^b f(x) \\, dx \\approx \\sum_{i=0}^{n} \\omega_i \\cdot f(x_i)  ~~,~~  \\omega_i = \\left[ \\frac{\\Delta x}{2}, \\Delta x, \\Delta x, \\dots, \\Delta x, \\frac{\\Delta x}{2} \\right]\n",
    "  ~~,~~ \\Delta x = \\frac{b-a}{n}~~,~~x_i = a + i \\cdot \\Delta x$$\n",
    "\n",
    "</div>"
   ]
  },
  {
   "cell_type": "markdown",
   "metadata": {},
   "source": [
    "<div style=\"background-color: #FFF9AD; color: black; padding: 10px; border-radius: 5px;\">\n",
    "\n",
    "Calcule la integral $I$ mediante el método de Riemann y el Trapezoidal para diferentes valores de $n$, compare el error de cada aproximación construyendo un gráfico $\\varepsilon_{\\%}$ vs $n$\n",
    "\n",
    "$$ I = \\int_0^\\pi \\cos(2x)\\,dx $$\n",
    "\n",
    "</div>"
   ]
  },
  {
   "cell_type": "code",
   "execution_count": null,
   "metadata": {},
   "outputs": [],
   "source": [
    "# implemente el método trapezoidal\n",
    "\n"
   ]
  },
  {
   "cell_type": "markdown",
   "metadata": {},
   "source": [
    "### **Creación de módulo de Python con nuestros métodos numéricos**\n",
    "\n",
    "A continuación, crearemos una librería en Python que agrupe todos los algoritmos numéricos que hemos desarrollado a lo largo del curso. Esta librería incluirá:\n",
    "\n",
    "- Métodos de derivación numérica\n",
    "\n",
    "- Algoritmos de búsqueda de raíces\n",
    "\n",
    "- Técnicas de interpolación\n",
    "\n",
    "- Métodos de integración numérica\n",
    "\n",
    "Una vez que organicemos y estructuremos correctamente la librería en módulos, podremos importar y utilizar fácilmente cualquiera de estas funciones en nuestros scripts o notebooks."
   ]
  },
  {
   "cell_type": "code",
   "execution_count": null,
   "metadata": {},
   "outputs": [],
   "source": [
    "# Llame a la función de derivación numérica central difference\n",
    "\n"
   ]
  },
  {
   "cell_type": "code",
   "execution_count": null,
   "metadata": {},
   "outputs": [],
   "source": [
    "# Llame a la función de integración numérica riemann rule\n",
    "\n"
   ]
  },
  {
   "cell_type": "code",
   "execution_count": null,
   "metadata": {},
   "outputs": [],
   "source": [
    "# para qué sirve help?\n",
    "\n"
   ]
  },
  {
   "cell_type": "markdown",
   "metadata": {},
   "source": [
    "<div style=\"background-color: #FFF9AD; color: black; padding: 10px; border-radius: 5px;\">\n",
    "\n",
    "**Ejercicio:** Calcule numéricamente la integral $I$ usando tanto la regla de Riemann como del trapecio para estimar el número $\\pi$ con una precisión de 10 decimales:\n",
    "\n",
    "$$ I = \\int_0^1 \\frac{4}{x^2 + 1} \\, dx = \\pi$$\n",
    "\n",
    "¿Cuál es el $n$ óptimo en cada caso?"
   ]
  },
  {
   "cell_type": "code",
   "execution_count": null,
   "metadata": {},
   "outputs": [],
   "source": [
    "# resuelva\n",
    "\n"
   ]
  },
  {
   "cell_type": "markdown",
   "metadata": {},
   "source": [
    "<div style=\"background-color: #d9ffd4; color: black; padding: 10px; border-radius: 5px;\">\n",
    "\n",
    "**Conclusión:** ¿Qué aprendimos?\n",
    "\n",
    "- Estudiamos un segundo algoritmo numérico para calcular integrales definidas de manera aproximada: Regla del trapecio\n",
    "- Comparamos la precisión de los métodos.\n",
    "- Estructuramos nuestros algoritmos en módulos y librerías para seguir buenas práticas de programación.\n",
    "\n",
    "\n",
    "**Próxima clase:** Integración Numérica: Regla de Simpson y Errores de Integración.\n",
    "\n",
    "</div>"
   ]
  },
  {
   "cell_type": "markdown",
   "metadata": {},
   "source": [
    "<div style=\"padding: 15px; border-top: 2px solid #2F4F4F; margin-top: 30px; background-color: var(--custom-bg-color); color: var(--custom-text-color);\">\n",
    "    <p style=\"font-family: Calibri, sans-serif; text-align: left; font-size: 16px;\">\n",
    "        Omar Fernández <br>\n",
    "        Profesor de Física Computacional III para Astrofísica <br>\n",
    "        Ingeniero Físico <br>\n",
    "        <a href=\"mailto:omar.fernandez.o@usach.cl\" class=\"email-link\">omar.fernandez.o@usach.cl</a> <br>\n",
    "    </p>\n",
    "</div>\n",
    "\n",
    "<style>\n",
    ":root {\n",
    "    --custom-bg-color: #F8F8F8;\n",
    "    --custom-text-color: #2F4F4F;\n",
    "    --custom-link-color: blue;\n",
    "}\n",
    "\n",
    "@media (prefers-color-scheme: dark) {\n",
    "    :root {\n",
    "        --custom-bg-color: #444444;\n",
    "        --custom-text-color: #F8F8F8;\n",
    "        --custom-link-color: magenta;\n",
    "    }\n",
    "}\n",
    "\n",
    ".email-link {\n",
    "    color: var(--custom-link-color);\n",
    "}\n",
    "</style>"
   ]
  }
 ],
 "metadata": {
  "kernelspec": {
   "display_name": "Python 3",
   "language": "python",
   "name": "python3"
  },
  "language_info": {
   "codemirror_mode": {
    "name": "ipython",
    "version": 3
   },
   "file_extension": ".py",
   "mimetype": "text/x-python",
   "name": "python",
   "nbconvert_exporter": "python",
   "pygments_lexer": "ipython3",
   "version": "3.10.11"
  }
 },
 "nbformat": 4,
 "nbformat_minor": 2
}
