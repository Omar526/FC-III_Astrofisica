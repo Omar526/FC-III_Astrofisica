{
 "cells": [
  {
   "cell_type": "markdown",
   "metadata": {},
   "source": [
    "<div style=\"background-color: #d9ffd4; padding: 20px; border-radius: 10px;\">\n",
    "    <h1 style=\"color: #2F4F4F; font-family: Calibri, sans-serif; text-align: center;\">Clase 13</h1>\n",
    "    <p style=\"color: #2F4F4F; font-family: Calibri, Courier, monospace; text-align: center; font-size: 24px;\">\n",
    "        Integración Numérica. Regla de Simpson y Análisis de Errores\n",
    "    </p>\n",
    "</div>"
   ]
  },
  {
   "cell_type": "markdown",
   "metadata": {},
   "source": [
    "Como revisamos en clases anteriores, la integral de una función se describe normalmente como el \"área bajo la curva\". Hasta ahora hemos revisado dos métodos de integración:\n",
    "\n",
    "**Regla de Riemann:**\n",
    "\n",
    "$$ \\int_a^b f(x) \\, dx \\approx \\sum_{i=0}^{n-1} \\Delta x \\cdot f(x_i) ~~,~~ \\Delta x = \\frac{b-a}{n}~~,~~x_i = a + i \\cdot \\Delta x$$\n",
    "\n",
    "**Regla del Trapecio:**\n",
    "\n",
    "$$ \\int_a^b f(x) \\, dx \\approx \\sum_{i=0}^{n-1} \\frac{\\Delta x}{2} \\left( f(x_i) + f(x_{i+1})  \\right) ~~,~~ \\Delta x = \\frac{b-a}{n}~~,~~x_i = a + i \\cdot \\Delta x$$\n",
    "\n",
    "una expresión más eficiente para la regla del trapecio es:\n",
    "\n",
    "$$ \\int_a^b f(x) \\, dx \\approx \\sum_{i=0}^{n} \\omega_i f(x_i) ~~,~~ \\omega = \\left[ \\frac{\\Delta x}{2}, \\Delta x, ..., \\Delta x, \\frac{\\Delta x}{2} \\right] ~~,~~ \\Delta x = \\frac{b-a}{n}~~,~~x_i = a + i \\cdot \\Delta x$$"
   ]
  },
  {
   "cell_type": "markdown",
   "metadata": {},
   "source": [
    "<p align=\"center\">\n",
    "  <img src=\"riemann_plot_3.png\" style=\"max-width: 65%; height: auto;\">\n",
    "</p>"
   ]
  },
  {
   "cell_type": "markdown",
   "metadata": {},
   "source": [
    "### **Regla de Simpson**\n",
    "\n",
    "Existe un tercer método de integración numérica, llamado Regla de Simpson, y está definido de la siguiente manera:\n",
    "\n",
    "Considere dos subintervalos consecutivos $[x_{i-1}, x_i]$ y $[x_i, x_{i+1}]$. La Regla de Simpson aproxima el área bajo la curva $f(x)$ sobre estos dos subintervalos ajustando un polinomio cuadrático $L(x)$ a través de los puntos $(x_{i-1}, f(x_{i-1}))$, $(x_{i}, f(x_{i}))$ y $(x_{i+1}, f(x_{i+1}))$, que es un polinomio único, y luego integrando este polinomio. A continuación se muestra esta aproximación integral para una función arbitraria.\n",
    "\n",
    "<p align=\"center\">\n",
    "  <img src=\"riemann_plot_5.png\"  style=\"max-width: 35%; height: auto;\">\n",
    "</p>\n",
    "\n",
    "\n",
    "En primer lugar, construimos la aproximación cuadrática de la función sobre los dos subintervalos. La forma más sencilla de hacerlo es utilizar **polinomios de Lagrange** (para $n=3$):\n",
    "\n",
    "$$ L(x) = \\sum_{i=1}^{3} y_i P_i(x)   ~~;~~    P_i(x) = \\prod_{j=1, j \\neq i}^{3} \\frac{x - x_j}{x_i - x_j} $$\n",
    "\n",
    "Aplicando la fórmula de construcción de los polinomios de Lagrange obtenemos $L(x)$:\n",
    "\n",
    "$$L(x) = \\frac{f(x_{i−1})}{2\\Delta x^2}(x−x_i)(x−x_{i+1})−\\frac{f(x_{i})}{\\Delta x^2}(x−x_{i−1})(x−x_{i+1})+\\frac{f(x_{i+1})}{2\\Delta x^2}(x−x_{i−1})(x−x_i)$$\n",
    "\n",
    "Con \"algo\" (bastante) de álgebra y manipulación, la integral de $L(x)$ sobre los dos subintervalos es:\n",
    "\n",
    "$$ \\int_{x_{i-1}}^{x_{i+1}}  L(x) \\, dx = \\frac{\\Delta x}{3} \\left( f(x_{i-1}) + 4f(x_i) + f(x_{i+1}) \\right)  $$\n",
    "\n",
    "\n",
    "Generalizando la fórmula al intervalo $[a, b]$ (sumando muchos polinómios cuadráticos), tenemos que:\n",
    "\n",
    "$$ \\int_a^b f(x) \\, dx \\approx \\sum_{i=0}^{n-1} \\frac{\\Delta x}{3} \\left( f(x_{i-1}) + 4f(x_i) + f(x_{i+1}) \\right)  $$\n"
   ]
  },
  {
   "cell_type": "markdown",
   "metadata": {},
   "source": [
    "<div style=\"background-color: #d4eeff; color: black; padding: 10px; border-radius: 5px;\">\n",
    "\n",
    "### **Regla de Simspon Eficiente**\n",
    "\n",
    "una expresión más eficiente para la regla del Simpson es:\n",
    "\n",
    "$$ \\int_a^b f(x) \\, dx \\approx \\sum_{i=0}^{n} \\omega_i f(x_i) ~~,~~ \\omega = \\left[ \\frac{\\Delta x}{3}, \\frac{4\\Delta x}{3}, \\frac{2\\Delta x}{3}, \\frac{4\\Delta x}{3}, ..., \\frac{4\\Delta x}{3}, \\frac{2\\Delta x}{3},\\frac{\\Delta x}{3} \\right]$$\n",
    "\n",
    "$$  \\Delta x = \\frac{b-a}{n}~~,~~x_i = a + i \\cdot \\Delta x $$\n",
    "\n",
    "**Precaución:** $n$ debe ser un número par dada la forma de agrupar la sumatoria en una suma ponderada.\n",
    "\n",
    "</div>"
   ]
  },
  {
   "cell_type": "markdown",
   "metadata": {},
   "source": [
    "Gráfica comparativa de los 3 métodos:\n",
    "\n",
    "<p align=\"center\">\n",
    "  <img src=\"riemann_plot_4.png\"  style=\"max-width: 80%; height: auto;\">\n",
    "</p>"
   ]
  },
  {
   "cell_type": "markdown",
   "metadata": {},
   "source": [
    "<div style=\"background-color: #FFF9AD; color: black; padding: 10px; border-radius: 5px;\">\n",
    "\n",
    "**Ejercicio Propuesto**: Calcule la integral $I$ utilizando los tres métodos de integración, para $n=10$. Calcule el error relativo porcentual $\\varepsilon_\\%$ para cada $n$ y haga una gráfica $\\varepsilon_\\%$ vs $n$\n",
    "\n",
    "$$I = \\int_0^{\\pi/2} \\cos(x) \\,dx  = \\left. \\sin(x) \\right|_0^{\\pi/2} =  \\sin (\\pi/2) - \\sin (0) = 1 - 0 = 1 $$\n",
    "\n",
    "</div>"
   ]
  },
  {
   "cell_type": "code",
   "execution_count": null,
   "metadata": {},
   "outputs": [],
   "source": [
    "# Sú código\n",
    "\n"
   ]
  },
  {
   "cell_type": "markdown",
   "metadata": {},
   "source": [
    "### **Análisis de Errores**\n",
    "\n",
    "Como vimos en clases anteriores, existen integrales que **no pueden resolverse analíticamente**. Esto no significa que no tengan solución, sino que **no existe una fórmula exacta** que las exprese mediante funciones elementales. A pesar de eso, gracias a los **métodos de integración numérica**, podemos obtener **aproximaciones muy precisas**.\n",
    "\n",
    "Un ejemplo de esto es la integral:\n",
    "\n",
    "$$\n",
    "I = \\int_0^1 \\frac{\\cos(x)}{\\sqrt{x}} \\approx 1.80905\n",
    "$$\n",
    "\n",
    "**Importante:** Que no exista una solución analítica no significa que la integral no tenga solución. La solución existe y es un número real, pero **no puede obtenerse mediante una fórmula exacta**. Por eso, usamos métodos numéricos para estimarla.\n",
    "\n",
    "Ahora bien, si obtenemos un valor aproximado, **¿cómo sabemos qué tan bueno es?**  \n",
    "Si no conocemos el valor exacto, ¿cómo podemos calcular el **error**?\n",
    "\n",
    "Una forma **indirecta** de estimar el error de una integral es utilizando **series de Taylor**. A partir del análisis teórico realizado en clases, se puede deducir que el **error de integración de la Regla de Riemann** está acotado por:\n",
    "\n",
    "$$\n",
    "\\epsilon_R(n) = \\frac{(b-a)^2}{2n} \\max{|f'(x)|}\n",
    "$$\n",
    "\n",
    "Aquí, $\\epsilon$ representa el **error absoluto**, es decir, la diferencia entre el valor exacto de la integral y su valor aproximado:\n",
    "\n",
    "$$\n",
    "\\epsilon = |I_{\\text{real}} - I_{\\text{aprox}}|\n",
    "$$\n",
    "\n",
    "De manera similar, aunque con demostraciones más complejas, se puede obtener la cota del error para otros métodos numéricos:\n",
    "\n",
    "- **Regla del Trapecio:**\n",
    "  $$\n",
    "  \\epsilon_T(n) = \\frac{(b-a)^3}{12n^2} \\max{|f''(x)|}\n",
    "  $$\n",
    "\n",
    "- **Regla de Simpson:**\n",
    "  $$\n",
    "  \\epsilon_S(n) = \\frac{(b-a)^5}{180n^4} \\max{|f^{(4)}(x)|}\n",
    "  $$\n",
    "\n",
    "Estas expresiones nos dicen que:\n",
    "\n",
    "- A mayor cantidad de subintervalos $n$, **menor es el error**.\n",
    "- El error depende de la **longitud del intervalo** $(b - a)$.\n",
    "- Y depende también del **valor máximo de una derivada** de la función en el intervalo.\n",
    "\n",
    "Lo más interesante es que **no necesitamos conocer el valor exacto de la integral para estimar su error**. Basta con:\n",
    "\n",
    "- Conocer los límites de integración.\n",
    "- Elegir un número de subintervalos $n$.\n",
    "- Y conocer (o acotar) la derivada correspondiente de la función que estamos integrando.\n"
   ]
  },
  {
   "cell_type": "markdown",
   "metadata": {},
   "source": [
    "<div style=\"background-color: #FFF9AD; color: black; padding: 10px; border-radius: 5px;\">\n",
    "\n",
    "**Ejercicio:** Estudie el error de integración de Riemann para $$ I = \\int_0^1 (x^2 + 1) \\, dx = \\frac{4}{3} $$\n",
    "\n",
    "Considere $n = 10, 10^2, 10^3, 10^4$.\n",
    "\n",
    "</div>"
   ]
  },
  {
   "cell_type": "code",
   "execution_count": null,
   "metadata": {},
   "outputs": [],
   "source": [
    "# Su código acá\n"
   ]
  },
  {
   "cell_type": "markdown",
   "metadata": {},
   "source": [
    "<div style=\"background-color: #FFF9AD; color: black; padding: 10px; border-radius: 5px;\">\n",
    "\n",
    "**Ejercicio:** Estudie el error de integración de Riemann para $$ I = \\int_0^1 \\frac{\\cos(x)}{\\sqrt{x}} $$\n",
    "\n",
    "Considere $n = 1000$.\n",
    "\n",
    "**Solución:** $$ I = \\int_0^1 \\frac{\\cos(x)}{\\sqrt{x}}  =  1.80951 \\pm 0.00168 $$\n",
    "\n",
    "</div>"
   ]
  },
  {
   "cell_type": "code",
   "execution_count": null,
   "metadata": {},
   "outputs": [],
   "source": [
    "# Su código acá\n"
   ]
  },
  {
   "cell_type": "markdown",
   "metadata": {},
   "source": [
    "<div style=\"background-color: #d9ffd4; color: black; padding: 10px; border-radius: 5px;\">\n",
    "\n",
    "**Conclusión:** ¿Qué aprendimos?\n",
    "\n",
    "- Estudiamos un tercer algoritmo numérico para calcular integrales definidas de manera aproximada: Regla de Simpson\n",
    "- Definimos cotas de error de integración para los 3 métodos de integración.\n",
    "- Descubrimos que podemos indicar un error aproximado de una integral sin conocer de antemano su solución exacta.\n",
    "\n",
    "\n",
    "**Próxima clase:** Ecuaciones Diferenciales Ordinarias. Introducción y Algoritmo de Euler para obtener soluciones aproximadas.\n",
    "\n",
    "</div>"
   ]
  },
  {
   "cell_type": "markdown",
   "metadata": {},
   "source": [
    "<div style=\"padding: 15px; border-top: 2px solid #2F4F4F; margin-top: 30px; background-color: var(--custom-bg-color); color: var(--custom-text-color);\">\n",
    "    <p style=\"font-family: Calibri, sans-serif; text-align: left; font-size: 16px;\">\n",
    "        Omar Fernández <br>\n",
    "        Profesor de Física Computacional III para Astrofísica <br>\n",
    "        Ingeniero Físico <br>\n",
    "        <a href=\"mailto:omar.fernandez.o@usach.cl\" class=\"email-link\">omar.fernandez.o@usach.cl</a> <br>\n",
    "    </p>\n",
    "</div>\n",
    "\n",
    "<style>\n",
    ":root {\n",
    "    --custom-bg-color: #F8F8F8;\n",
    "    --custom-text-color: #2F4F4F;\n",
    "    --custom-link-color: blue;\n",
    "}\n",
    "\n",
    "@media (prefers-color-scheme: dark) {\n",
    "    :root {\n",
    "        --custom-bg-color: #444444;\n",
    "        --custom-text-color: #F8F8F8;\n",
    "        --custom-link-color: magenta;\n",
    "    }\n",
    "}\n",
    "\n",
    ".email-link {\n",
    "    color: var(--custom-link-color);\n",
    "}\n",
    "</style>"
   ]
  }
 ],
 "metadata": {
  "kernelspec": {
   "display_name": "Python 3",
   "language": "python",
   "name": "python3"
  },
  "language_info": {
   "codemirror_mode": {
    "name": "ipython",
    "version": 3
   },
   "file_extension": ".py",
   "mimetype": "text/x-python",
   "name": "python",
   "nbconvert_exporter": "python",
   "pygments_lexer": "ipython3",
   "version": "3.10.11"
  }
 },
 "nbformat": 4,
 "nbformat_minor": 2
}
