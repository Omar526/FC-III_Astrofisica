{
 "cells": [
  {
   "cell_type": "markdown",
   "metadata": {},
   "source": [
    "<div style=\"background-color: #d9ffd4; padding: 20px; border-radius: 10px;\">\n",
    "    <h1 style=\"color: #2F4F4F; font-family: Calibri, sans-serif; text-align: center;\">Clase 16</h1>\n",
    "    <p style=\"color: #2F4F4F; font-family: Calibri, Courier, monospace; text-align: center; font-size: 24px;\">\n",
    "        Ecuaciones Diferenciales: Método de Runge-Kutta de orden 2 y aplicación en física\n",
    "    </p>\n",
    "</div>"
   ]
  },
  {
   "cell_type": "markdown",
   "metadata": {},
   "source": [
    "<div style=\"background-color: #d4eeff; color: black; padding: 10px; border-radius: 5px;\">\n",
    "\n",
    "### **Método de Runge-Kutta de orden 2**\n",
    "\n",
    "Considere una ecuación diferencial ordinaria de primer orden en su forma estándar:\n",
    "\n",
    "$$ \\frac{dy}{dt} = f(t, y) $$\n",
    "\n",
    "El método RK2 estima $y_{n+1}$ a partir de $y_n$ y $t_n$, con un paso $h$, utilizando una pendiente mejorada. El procedimiento consta de los siguientes pasos:\n",
    "\n",
    "1. Calcular una pendiente inicial (como en el método de Euler):\n",
    "\n",
    "$$ k_1 = h \\cdot  f(t_n, y_n) $$\n",
    "\n",
    "2. Usar esta pendiente $k_1$ para estimar un valor intermedio:\n",
    "\n",
    "$$ y_\\text{mid} = y_0 + \\frac{k_1}{2} ~~,~~ t_\\text{mid} = t_0 + \\frac{h}{2} $$\n",
    "\n",
    "3. Calcular la pendiente en el punto medio:\n",
    "\n",
    "$$ k_2 = f(t_\\text{mid}, t_\\text{mid}) $$\n",
    "\n",
    "4. Calcular el valor siguiente de $y$:\n",
    "\n",
    "$$ \\boxed{ y_{n+1} = y_n + k_2  } $$\n",
    "\n",
    "5. Avanzar en el tiempo:\n",
    "\n",
    "$$ \\boxed{ t_{n+1} = t_n + h } $$\n",
    "\n",
    "**Nota:** Este método usa la pendiente en el punto medio para mejorar la estimación del incremento de $y$, y suele dar mejores resultados que el método de Euler simple, especialmente cuando $f(t,y)$ varía rápidamente.\n",
    "\n",
    "</div>"
   ]
  },
  {
   "cell_type": "markdown",
   "metadata": {},
   "source": [
    "#### **Interpretación Gráfica**\n",
    "\n",
    "La gráfica siguiente muestra cómo el método RK2 mejora la estimación de $y_1$ al usar no solo la pendiente inicial ($k_1$, en rojo), sino también una pendiente corregida en un punto medio ($k_2$, en azul). Esta pendiente intermedia se alinea mejor con la pendiente real de la solución (línea punteada verde), lo que da como resultado una aproximación más precisa al valor de la solución exacta (línea negra).\n",
    "\n",
    "<p align=\"center\">\n",
    "  <img src=\"comparison_v2.png\" style=\"max-width: 60%; height: auto;\">\n",
    "</p>"
   ]
  },
  {
   "cell_type": "markdown",
   "metadata": {},
   "source": [
    "<div style=\"background-color: #FFF9AD; color: black; padding: 10px; border-radius: 5px;\">\n",
    "\n",
    "**Ejercicio:** Defina una función en Python para implementar el método de RK2, use como ejemplo el código siguiente donde se define Euler:\n",
    "\n",
    "</div>"
   ]
  },
  {
   "cell_type": "code",
   "execution_count": null,
   "metadata": {},
   "outputs": [],
   "source": [
    "from numpy import ndarray\n",
    "import numpy as np\n",
    "from typing import Callable\n",
    "\n",
    "def euler_method(f: Callable[[float, float], float], t0: float, y0: float, h: float, tf: float) -> tuple[ndarray, ndarray]:\n",
    "    \"\"\"Euler method to solve first-order ordinary differential equations (ODEs)\n",
    "\n",
    "    Args:\n",
    "        f (Callable[[float, float], float]): Function f(t, y) representing the ODE dy/dt = f(t, y)\n",
    "        t0 (float): Initial value of the independent variable\n",
    "        y0 (float): Initial value of the dependent variable\n",
    "        h (float): Step size for the independent variable\n",
    "        tf (float): Final value of the independent variable\n",
    "\n",
    "    Returns:\n",
    "        tuple[np.ndarray, np.ndarray]: Tuple (t, y) where:\n",
    "            t (np.ndarray): Discrete values of the independent variable\n",
    "            y (np.ndarray): Approximate values of the dependent variable at each t\n",
    "    \"\"\"\n",
    "\n",
    "    # Discrete values of the independent variable\n",
    "    t = np.arange(start=t0, stop=tf + h, step=h)\n",
    "\n",
    "    # Array to store values of the dependent variable\n",
    "    y = np.zeros_like(t)\n",
    "\n",
    "    # Initial condition\n",
    "    y[0] = y0\n",
    "\n",
    "    # Iterative Euler update\n",
    "    for n in range(len(t) - 1):\n",
    "        y[n + 1] = y[n] + h * f(t[n], y[n])\n",
    "\n",
    "    return t, y\n",
    "\n",
    "\n",
    "\n",
    "def rk2_method(f: Callable[[float, float], float], t0: float, y0: float, h: float, tf: float) -> tuple[ndarray, ndarray]:\n",
    "    \"\"\"Runge-Kutta 2nd order method (midpoint variant) to solve first-order ODEs.\"\"\"\n",
    "    \n",
    "    # su implementación acá\n",
    "\n",
    "\n",
    "\n",
    "    \n",
    "\n",
    "    return t, y\n",
    "\n"
   ]
  },
  {
   "cell_type": "markdown",
   "metadata": {},
   "source": [
    "<div style=\"background-color: #FFF9AD; color: black; padding: 10px; border-radius: 5px;\">\n",
    "\n",
    "### **Temperatura de una habitación**\n",
    "\n",
    "La temperatura $ T(t) $ de una habitación con una fuente de calor interna $T_\\text{fuente}(t)$ que varía en el tiempo puede modelarse con la siguiente ecuación diferencial:\n",
    "\n",
    "$$\n",
    "\\frac{dT}{dt} = \\frac{ T_{\\text{fuente}}(t) - T(t)}{\\tau}\n",
    "$$\n",
    "\n",
    "$ \\tau $ es una constante que indica qué tan rápido la temperatura de la habitación se ajusta a la temperatura de la fuente.\n",
    "\n",
    "Resuelva esta ecuación diferencial aplicando el método de Runge-Kutta de segundo orden (RK2) y el método de Euler.\n",
    "Considere que la función $ T_{\\text{fuente}}(t) $ está definida por tramos, de la siguiente manera:\n",
    "\n",
    "$$\n",
    "T_{\\text{fuente}}(t) =\n",
    "\\begin{cases}\n",
    "T_{\\text{baja}}, & 0 \\text{ s} \\leq t < 30 \\text{ s} \\\\[6pt]\n",
    "T_{\\text{alta}}, & 30 \\text{ s} \\leq t < 80 \\text{ s} \\\\[6pt]\n",
    "T_{\\text{baja}}, & 80 \\text{ s} \\leq t < 120 \\text{ s}\\\\[6pt]\n",
    "T_\\text{alta} - 0.1 \\cdot (t - 80) + 2 \\cdot \\text{fluctuaciones aleatorias}, & 120 \\text{ s} \\leq t \\leq 200 \\text{ s}\n",
    "\\end{cases}\n",
    "$$\n",
    "\n",
    "Use los siguientes valores para los parámetros y constantes: $ \\tau = 16 $ s, $ T_{\\text{alta}} = 26 $ °C, $ T_{\\text{baja}} = 15 $ °C, $h=0.9$ s.\n",
    "\n",
    "Considere que inicialmente la temperatura de la habitación está a $15$ °C.\n",
    "\n",
    "Grafique la evolución de $ T(t) $ para visualizar cómo cambia la temperatura de la habitación a lo largo del tiempo.\n",
    "\n",
    "</div>\n"
   ]
  },
  {
   "cell_type": "markdown",
   "metadata": {},
   "source": [
    "La función de temperatura de la fuente $T_\\text{fuente}(t)$ debería verse de la siguiente forma:\n",
    "\n",
    "<p align=\"center\">\n",
    "  <img src=\"grafico_fuente.png\" style=\"max-width: 80%; height: auto;\">\n",
    "</p>"
   ]
  },
  {
   "cell_type": "markdown",
   "metadata": {},
   "source": [
    "Implemente su solución:"
   ]
  },
  {
   "cell_type": "code",
   "execution_count": null,
   "metadata": {},
   "outputs": [],
   "source": [
    "# código acá\n",
    "\n"
   ]
  },
  {
   "cell_type": "markdown",
   "metadata": {},
   "source": [
    "<div style=\"background-color: #d9ffd4; color: black; padding: 10px; border-radius: 5px;\">\n",
    "\n",
    "**Conclusión: ¿Qué aprendimos?**\n",
    "\n",
    "- Comprendimos el funcionamiento del método de Runge-Kutta de segundo orden (RK2) para aproximar soluciones de ecuaciones diferenciales de primer orden.\n",
    "- Aplicamos este método para modelar la evolución de la temperatura en una habitación con una fuente de calor que varía en el tiempo.\n",
    "\n",
    "<br>\n",
    "\n",
    "**Próxima clase:** Ecuaciones diferenciales: Método de Runge-Kutta de cuarto orden (RK4)\n",
    "\n",
    "</div>"
   ]
  },
  {
   "cell_type": "markdown",
   "metadata": {},
   "source": [
    "<div style=\"padding: 15px; border-top: 2px solid #2F4F4F; margin-top: 30px; background-color: var(--custom-bg-color); color: var(--custom-text-color);\">\n",
    "    <p style=\"font-family: Calibri, sans-serif; text-align: left; font-size: 16px;\">\n",
    "        Omar Fernández <br>\n",
    "        Profesor de Física Computacional III para Astrofísica <br>\n",
    "        Ingeniero Físico <br>\n",
    "        <a href=\"mailto:omar.fernandez.o@usach.cl\" class=\"email-link\">omar.fernandez.o@usach.cl</a> <br>\n",
    "    </p>\n",
    "</div>\n",
    "\n",
    "<style>\n",
    ":root {\n",
    "    --custom-bg-color: #F8F8F8;\n",
    "    --custom-text-color: #2F4F4F;\n",
    "    --custom-link-color: blue;\n",
    "}\n",
    "\n",
    "@media (prefers-color-scheme: dark) {\n",
    "    :root {\n",
    "        --custom-bg-color: #444444;\n",
    "        --custom-text-color: #F8F8F8;\n",
    "        --custom-link-color: magenta;\n",
    "    }\n",
    "}\n",
    "\n",
    ".email-link {\n",
    "    color: var(--custom-link-color);\n",
    "}\n",
    "</style>"
   ]
  }
 ],
 "metadata": {
  "kernelspec": {
   "display_name": "Python 3",
   "language": "python",
   "name": "python3"
  },
  "language_info": {
   "codemirror_mode": {
    "name": "ipython",
    "version": 3
   },
   "file_extension": ".py",
   "mimetype": "text/x-python",
   "name": "python",
   "nbconvert_exporter": "python",
   "pygments_lexer": "ipython3",
   "version": "3.10.11"
  }
 },
 "nbformat": 4,
 "nbformat_minor": 2
}
