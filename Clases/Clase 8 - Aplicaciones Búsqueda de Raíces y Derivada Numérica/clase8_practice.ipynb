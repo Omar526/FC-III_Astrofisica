{
 "cells": [
  {
   "cell_type": "markdown",
   "metadata": {},
   "source": [
    "<div style=\"background-color: #d9ffd4; padding: 20px; border-radius: 10px;\">\n",
    "    <h1 style=\"color: #2F4F4F; font-family: Calibri, sans-serif; text-align: center;\">Clase 8</h1>\n",
    "    <p style=\"color: #2F4F4F; font-family: Calibri, Courier, monospace; text-align: center; font-size: 24px;\">\n",
    "        Aplicaciones de los métodos de búsqueda de raíces y derivada numérica\n",
    "    </p>\n",
    "</div>"
   ]
  },
  {
   "cell_type": "markdown",
   "metadata": {},
   "source": [
    "Grafique la siguiente ecuación polar de una orbita planetaria elíptica $r(t)$:\n",
    "\n",
    "$$ r(t) = \\frac{a(1-e^2)}{1+e\\cos(\\omega t + \\phi)}$$\n",
    "\n",
    "donde $a$ corresponde al semieje mayor, $e$ la excentricidad de la orbita, $\\omega$ la rapidez angular del planeta y $\\phi$ la fase.\n",
    "\n",
    "Para graficar, recuerde que debe calcular primero las componentes $x(t)$ e $y(t)$ de la curva mediante:\n",
    "\n",
    "$$ x(t) = \\cos(\\omega t + \\phi) \\cdot r(t) $$\n",
    "\n",
    "$$ y(t) = \\sin(\\omega t + \\phi) \\cdot r(t) $$\n",
    "\n",
    "\n",
    "Modifique los parámetros $a$, $e$, $\\omega$ y $\\phi$ para observar su efecto sobre la curva. Primero defina un rango de tiempo $t$, desde $t=0$ hasta $t=T$, donde $T$ corresponde al periodo orbital (es decir, el tiempo que tarda el planeta en completar una vuelta) y se relaciona con la rapidez angular $\\omega$ de la siguiente manera $$T = \\frac{2\\pi}{\\omega}$$"
   ]
  },
  {
   "cell_type": "code",
   "execution_count": null,
   "metadata": {},
   "outputs": [],
   "source": [
    "# Implementación de la curva\n",
    "import numpy as np\n",
    "import matplotlib.pyplot as plt\n",
    "\n",
    "omega = 10 # rapidez angular de un planeta\n",
    "T = 2*np.pi / omega  # periodo en función de la rapidez angular\n",
    "t_values = np.linspace(start=0, stop=T, num=100, endpoint=True) # rango de tiempo\n",
    "\n",
    "\n",
    "def r(t, a, e, omega, phi):\n",
    "    return ??\n",
    "\n",
    "def x(t, a, e, omega, phi):\n",
    "    return ??\n",
    "\n",
    "def y(t, a, e, omega, phi):\n",
    "    return ??\n",
    "\n",
    "x_values = x(t_values, a=1, e=0.5, omega=10, phi=0)\n",
    "y_values = y(t_values, a=1, e=0.5, omega=10, phi=0)\n"
   ]
  },
  {
   "cell_type": "markdown",
   "metadata": {},
   "source": [
    "Defina las órbitas de dos planetas, que tengan distintos parámetros orbitales, y obtenga sus coordenadas cartesianas $x_1(t)$, $y_1(t)$ y $x_2(t)$, $y_2(t)$:"
   ]
  },
  {
   "cell_type": "code",
   "execution_count": null,
   "metadata": {},
   "outputs": [],
   "source": [
    "# Defina las orbitas y grafíquelas acá\n",
    "\n"
   ]
  },
  {
   "cell_type": "markdown",
   "metadata": {},
   "source": [
    "Podemos calcular ahora, la distancia de separación entre los dos planetas, en cada instante de tiempo con la fórmula de distancia euclidiana:\n",
    "\n",
    "$$ s = \\sqrt{(x_1 - x_2)^2 + (y_1 - y_2)^2} $$"
   ]
  },
  {
   "cell_type": "code",
   "execution_count": null,
   "metadata": {},
   "outputs": [],
   "source": [
    "# calcule la distancia euclidana para cada instante de tiempo t\n",
    "s_values = ??"
   ]
  },
  {
   "cell_type": "markdown",
   "metadata": {},
   "source": [
    "¿Cómo podemos determinar los tiempos en los cuales la distancia entre los dos cuerpos es máxima o mínima? Es decir, los mínimos y máximos locales de la función $s(t)$?. Vea la siguiente animación para ilustrar lo que se pide:"
   ]
  },
  {
   "cell_type": "code",
   "execution_count": null,
   "metadata": {},
   "outputs": [],
   "source": [
    "%%capture\n",
    "import numpy as np\n",
    "import matplotlib.pyplot as plt\n",
    "from matplotlib.animation import FuncAnimation\n",
    "\n",
    "class Orbita:\n",
    "    def __init__(self, a, e, omega, phi):\n",
    "        self.a = a\n",
    "        self.e = e\n",
    "        self.omega = omega\n",
    "        self.phi = phi\n",
    "\n",
    "    def calcular_r(self, t):\n",
    "        return self.a * (1 - self.e ** 2) / (1 + self.e * np.cos(self.omega * t + self.phi))\n",
    "\n",
    "    def coordenadas(self, t_values):\n",
    "        x_values = self.calcular_r(t_values) * np.cos(self.omega * t_values + self.phi)\n",
    "        y_values = self.calcular_r(t_values) * np.sin(self.omega * t_values + self.phi)\n",
    "        return x_values, y_values\n",
    "\n",
    "# Parámetros de la órbita\n",
    "omega = 10\n",
    "phi1 = 0\n",
    "phi2 = np.pi/3\n",
    "\n",
    "# Crear instancias de la clase Orbita\n",
    "orbita1 = Orbita(a=1, e=0.5, omega=omega, phi=phi1)\n",
    "orbita2 = Orbita(a=2, e=0.6, omega=2*omega, phi=phi2)\n",
    "\n",
    "# Valores de tiempo\n",
    "T = 2 * np.pi / omega\n",
    "t_values = np.linspace(start=0, stop=T, num=500, endpoint=True)\n",
    "\n",
    "# Coordenadas de las órbitas\n",
    "x1_values, y1_values = orbita1.coordenadas(t_values)\n",
    "x2_values, y2_values = orbita2.coordenadas(t_values)\n",
    "\n",
    "s = np.sqrt( (x1_values - x2_values)**2 + (y1_values - y2_values)**2 )\n",
    "\n",
    "# Crear la figura y los ejes\n",
    "fig, ax = plt.subplots(1,2, figsize=(12,6))\n",
    "ax[0].scatter(0, 0, marker=\".\", color=\"k\")\n",
    "ax[0].plot(x1_values, y1_values, ls=\":\")\n",
    "ax[0].plot(x2_values, y2_values, ls=\":\")\n",
    "ax[0].axis(\"equal\")\n",
    "\n",
    "x1, y1 = orbita1.coordenadas(0)\n",
    "x2, y2 = orbita2.coordenadas(0)\n",
    "\n",
    "ax[0].scatter(x1,y1, marker=\"o\")\n",
    "ax[0].scatter(x2,y2, marker=\"o\")\n",
    "\n",
    "line, = ax[0].plot([x1, x2], [y1, y2], 'k--')  # Línea recta entre los puntos marcados\n",
    "point1 = ax[0].scatter(x1, y1, marker=\"o\")\n",
    "point2 = ax[0].scatter(x2, y2, marker=\"o\")\n",
    "\n",
    "ax[1].plot(t_values,s)\n",
    "point3 = ax[1].scatter(t_values[0], s[0], marker=\"x\", color=\"red\")\n",
    "\n",
    "for a in ax: a.grid(ls=\"--\")\n",
    "\n",
    "def update(frame):\n",
    "    ti = T * frame / 100\n",
    "    x1, y1 = orbita1.coordenadas(ti)\n",
    "    x2, y2 = orbita2.coordenadas(ti)\n",
    "    line.set_data([x1, x2], [y1, y2])\n",
    "    # Actualizar las posiciones de los puntos de scatter\n",
    "    point1.set_offsets([[x1, y1]])\n",
    "    point2.set_offsets([[x2, y2]])\n",
    "    si = np.sqrt((x1 - x2)**2 + (y1 - y2)**2)\n",
    "    point3.set_offsets([[ti, si]])\n",
    "\n",
    "# Crear la animación\n",
    "ani = FuncAnimation(fig, update, frames=100, interval=100)\n",
    "plt.show()\n"
   ]
  },
  {
   "cell_type": "code",
   "execution_count": null,
   "metadata": {},
   "outputs": [],
   "source": [
    "from IPython.display import HTML\n",
    "HTML(ani.to_jshtml())"
   ]
  },
  {
   "cell_type": "markdown",
   "metadata": {},
   "source": [
    "Copie y pegue la definición de su función $r(t)$, $x(t)$, $y(t)$, vuelva a definir las orbitas para cada planeta y calcule $s(t)$ (se pide esto ya es probable que para crear la animación sus parámetros se hayan sobreescrito)."
   ]
  },
  {
   "cell_type": "code",
   "execution_count": null,
   "metadata": {},
   "outputs": [],
   "source": [
    "# Implementación de la curva\n",
    "\n"
   ]
  },
  {
   "cell_type": "code",
   "execution_count": null,
   "metadata": {},
   "outputs": [],
   "source": [
    "## s_values = "
   ]
  },
  {
   "cell_type": "markdown",
   "metadata": {},
   "source": [
    "En principio, podemos derivar $s(t)$ e igualar a cero:\n",
    "\n",
    "$$ \\frac{ds}{dt} = 0 $$\n",
    "\n",
    "Sin embargo, derivar esta función analíticamente conlleva mucho trabajo, por lo que optaremos por el método de diferencia central para calcular esta derivada. Ahora considere que no posee expresión analítica, sino que trabaje $s(t)$ como un set de datos, es decir, la derivada numérica tiene esta definición:\n",
    "\n",
    "<!-- $$ s'(t_n) = \\left. \\frac{ds}{dt} \\right |_{t_n} = \\frac{s_{n+1}- s_{n-1}}{t_{n+1} - t_{n-1}} $$ -->\n",
    "\n",
    "<center>\n",
    "  <img src=\"discrete_central.png\" alt=\"Descripción de la imagen\" style=\"width:50%;\">\n",
    "</center>\n"
   ]
  },
  {
   "cell_type": "code",
   "execution_count": null,
   "metadata": {},
   "outputs": [],
   "source": [
    "# Función para calcular la derivada numérica utilizando el método de diferencia central\n",
    "def central_difference(t_values, s_values):\n",
    "\n",
    "    # central difference\n",
    "    return ??\n",
    "\n",
    "ds_values = central_difference(t_values, s_values)\n",
    "\n"
   ]
  },
  {
   "cell_type": "markdown",
   "metadata": {},
   "source": [
    "Ahora sobre esta función, calcularemos sus ceros con el método de Newton-Rapson. Nuevamente, considere que el método de Newton-Rapson recibe un set de datos, `s_values` y `t_values` en vez de una expresión analítica que se pueda evaluar."
   ]
  },
  {
   "cell_type": "code",
   "execution_count": null,
   "metadata": {},
   "outputs": [],
   "source": [
    "def newton_rapson(s_values, t_values, t0, delta=1e-5, iter_max=5000):\n",
    "\n",
    "    dt = t_values[1] - t_values[0]\n",
    "    t0_idx = np.argmin(np.abs(t_values - t0))\n",
    "    t0 = t_values[t0_idx]\n",
    "    ds_values = central_difference(t_values, s_values)\n",
    "\n",
    "    n=0\n",
    "    while abs(s_values[t0_idx]) >= delta: # delta tolerancia\n",
    "        t0 = t0 - s_values[t0_idx] / ds_values[t0_idx]\n",
    "        #print(t0)\n",
    "        t0_idx = np.argmin(np.abs(t_values - t0))\n",
    "        n=n+1\n",
    "\n",
    "        if n == iter_max:\n",
    "            break\n",
    "\n",
    "    return t0, t0_idx, n\n",
    "\n",
    "\n",
    "Roots = []\n",
    "Roots_idx = []\n",
    "\n",
    "# Barrimos de t0 = 0 hasta 1 para encontrar todas las raices\n",
    "for t0 in np.arange(0, 1, 0.1):\n",
    "\n",
    "    t_out, t_out_idx, n = newton_rapson(s_values=ds_values, t_values=t_values[1:-1], t0=t0)\n",
    "    Roots.append(t_out)\n",
    "    Roots_idx.append(t_out_idx)\n",
    "\n",
    "Roots_idx = np.unique(np.array(Roots_idx)) # Nos quedamos solo con los valores únicos\n",
    "print(Roots_idx)"
   ]
  },
  {
   "cell_type": "code",
   "execution_count": null,
   "metadata": {},
   "outputs": [],
   "source": [
    "Roots_idx = np.delete(Roots_idx, 2)\n",
    "\n",
    "Roots_idx"
   ]
  },
  {
   "cell_type": "code",
   "execution_count": null,
   "metadata": {},
   "outputs": [],
   "source": [
    "print(f\"Tiempos donde ocurren los máximos y mínimos locales: {np.round(t_values[1:-1][Roots_idx], 2)}\")"
   ]
  },
  {
   "cell_type": "markdown",
   "metadata": {},
   "source": [
    "Ahora a graficar!"
   ]
  },
  {
   "cell_type": "code",
   "execution_count": null,
   "metadata": {},
   "outputs": [],
   "source": [
    "fig, ax = plt.subplots(1,2, figsize=(12,5))\n",
    "\n",
    "ax[0].plot(t_values[1:-1], ds_values)\n",
    "ax[0].grid(ls=\"--\")\n",
    "ax[0].axhline(0, color=\"gray\")\n",
    "ax[0].scatter(x=t_values[1:-1][Roots_idx], y=np.zeros_like(Roots_idx), marker=\"x\", color=\"red\")\n",
    "ax[0].set_xlabel(\"t\")\n",
    "ax[0].set_ylabel(\"$s'(t)$\")\n",
    "\n",
    "ax[1].plot(t_values, s_values)\n",
    "ax[1].grid(ls=\"--\")\n",
    "ax[1].scatter(x=t_values[1:-1][Roots_idx], y=s_values[1:-1][Roots_idx], marker=\"x\", color=\"red\")\n",
    "ax[1].set_xlabel(\"t\")\n",
    "ax[1].set_ylabel(r\"$s(t)$\")"
   ]
  },
  {
   "cell_type": "markdown",
   "metadata": {},
   "source": [
    "Hemos encontrado numéricamente estos puntos críticos. Grafiquemos en la trayectoria:"
   ]
  },
  {
   "cell_type": "code",
   "execution_count": null,
   "metadata": {},
   "outputs": [],
   "source": [
    "# Implementación de la curva\n",
    "import numpy as np\n",
    "import matplotlib.pyplot as plt\n",
    "\n",
    "omega = 10 # rapidez angular de un planeta\n",
    "T = 2*np.pi / omega  # periodo en función de la rapidez angular\n",
    "t_values = np.linspace(start=0, stop=2*T, num=1000, endpoint=True) # rango de tiempo\n",
    "\n",
    "\n",
    "def r(t, a, e, omega, phi):\n",
    "    return a*(1-e**2)/(1+e*np.cos(omega*t + phi))\n",
    "\n",
    "def x(t, a, e, omega, phi):\n",
    "    return np.cos(omega*t + phi) * r(t, a, e, omega, phi)\n",
    "\n",
    "def y(t, a, e, omega, phi):\n",
    "    return np.sin(omega*t + phi) * r(t, a, e, omega, phi)\n",
    "\n",
    "x1_values = x(t_values, a=1, e=0.5, omega=10, phi=0)\n",
    "y1_values = y(t_values, a=1, e=0.5, omega=10, phi=0)\n",
    "\n",
    "x2_values = x(t_values, a=2, e=0.5, omega=5, phi=np.pi/5)\n",
    "y2_values = y(t_values, a=2, e=0.5, omega=5, phi=np.pi/5)\n",
    "\n",
    "plt.plot(x1_values, y1_values, ls=\":\", label=\"orbita 1\")\n",
    "plt.plot(x2_values, y2_values, ls=\":\", label=\"orbita 2\")\n",
    "\n",
    "plt.scatter(x=x1_values[1:-1][Roots_idx[1]], y=y1_values[1:-1][Roots_idx[1]], marker=\"x\", color=\"red\")\n",
    "plt.scatter(x=x2_values[1:-1][Roots_idx[1]], y=y2_values[1:-1][Roots_idx[1]], marker=\"x\", color=\"red\")\n",
    "plt.grid(ls=\"--\")\n",
    "plt.scatter(0,0, marker=\".\", color=\"k\")\n",
    "plt.xlabel(\"x\")\n",
    "plt.ylabel(\"y\")\n",
    "\n",
    "plt.legend()\n",
    "plt.axis(\"equal\")"
   ]
  },
  {
   "cell_type": "markdown",
   "metadata": {},
   "source": [
    "<div style=\"background-color: #d9ffd4; color: black; padding: 10px; border-radius: 5px;\">\n",
    "\n",
    "**Conclusión:** ¿Qué aprendimos?\n",
    "\n",
    "Aplicamos los métodos de diferenciación numérica y búsqueda de raíces para encontrar los tiempos en los cuales un sistema de dos planetas se encuentran a la distancia mínima o máxima en su trayecto orbital.\n",
    "\n",
    "**Próxima clase:** Interpolación Lineal\n",
    "\n",
    "</div>"
   ]
  },
  {
   "cell_type": "markdown",
   "metadata": {},
   "source": [
    "<div style=\"padding: 15px; border-top: 2px solid #2F4F4F; margin-top: 30px; background-color: var(--custom-bg-color); color: var(--custom-text-color);\">\n",
    "    <p style=\"font-family: Calibri, sans-serif; text-align: left; font-size: 16px;\">\n",
    "        Omar Fernández <br>\n",
    "        Profesor de Física Computacional III para Astrofísica <br>\n",
    "        Ingeniero Físico <br>\n",
    "        <a href=\"mailto:omar.fernandez.o@usach.cl\" class=\"email-link\">omar.fernandez.o@usach.cl</a> <br>\n",
    "    </p>\n",
    "</div>\n",
    "\n",
    "<style>\n",
    ":root {\n",
    "    --custom-bg-color: #F8F8F8;\n",
    "    --custom-text-color: #2F4F4F;\n",
    "    --custom-link-color: blue;\n",
    "}\n",
    "\n",
    "@media (prefers-color-scheme: dark) {\n",
    "    :root {\n",
    "        --custom-bg-color: #444444;\n",
    "        --custom-text-color: #F8F8F8;\n",
    "        --custom-link-color: magenta;\n",
    "    }\n",
    "}\n",
    "\n",
    ".email-link {\n",
    "    color: var(--custom-link-color);\n",
    "}\n",
    "</style>"
   ]
  }
 ],
 "metadata": {
  "kernelspec": {
   "display_name": "Python 3",
   "language": "python",
   "name": "python3"
  },
  "language_info": {
   "codemirror_mode": {
    "name": "ipython",
    "version": 3
   },
   "file_extension": ".py",
   "mimetype": "text/x-python",
   "name": "python",
   "nbconvert_exporter": "python",
   "pygments_lexer": "ipython3",
   "version": "3.10.11"
  }
 },
 "nbformat": 4,
 "nbformat_minor": 2
}
